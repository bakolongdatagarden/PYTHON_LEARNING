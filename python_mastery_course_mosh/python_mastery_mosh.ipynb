{
 "cells": [
  {
   "metadata": {},
   "cell_type": "markdown",
   "source": "# The Complete Python Mastery Course",
   "id": "3df3003b0cc01446"
  },
  {
   "metadata": {},
   "cell_type": "markdown",
   "source": "> ### Python Interpreter",
   "id": "ef11be943b599b8c"
  },
  {
   "metadata": {
    "ExecuteTime": {
     "end_time": "2025-07-15T18:18:29.531050Z",
     "start_time": "2025-07-15T18:18:29.517633Z"
    }
   },
   "cell_type": "code",
   "source": [
    "\"\"\"\n",
    "This is a basic expression.\n",
    "\n",
    "An expression is a piece of code that produces a value\n",
    "\"\"\"\n",
    "2 + 2 # evaluates to the value 4"
   ],
   "id": "177722e5d8844f09",
   "outputs": [
    {
     "data": {
      "text/plain": [
       "4"
      ]
     },
     "execution_count": 1,
     "metadata": {},
     "output_type": "execute_result"
    }
   ],
   "execution_count": 1
  },
  {
   "metadata": {
    "ExecuteTime": {
     "end_time": "2025-07-15T19:33:23.234460Z",
     "start_time": "2025-07-15T19:33:23.228062Z"
    }
   },
   "cell_type": "code",
   "source": [
    "\"\"\"\n",
    "This is a boolean expression.\n",
    "\n",
    "Booleans return True or False values. They are similar to 'yes' and 'no' in English\n",
    "\"\"\"\n",
    "print(2 > 1)\n",
    "print(2 > 5)"
   ],
   "id": "53f5330cc3f5bbaf",
   "outputs": [
    {
     "name": "stdout",
     "output_type": "stream",
     "text": [
      "True\n",
      "False\n"
     ]
    }
   ],
   "execution_count": 131
  },
  {
   "metadata": {},
   "cell_type": "markdown",
   "source": "> ### Your First Python Program",
   "id": "ba724b48ac46c5de"
  },
  {
   "metadata": {
    "ExecuteTime": {
     "end_time": "2025-07-15T18:18:30.245001Z",
     "start_time": "2025-07-15T18:18:30.238868Z"
    }
   },
   "cell_type": "code",
   "source": [
    "# Let's print \"Hello World\" to the screen.\n",
    "print(\"Hello World\")"
   ],
   "id": "5b001651397634e2",
   "outputs": [
    {
     "name": "stdout",
     "output_type": "stream",
     "text": [
      "Hello World\n"
     ]
    }
   ],
   "execution_count": 4
  },
  {
   "metadata": {
    "ExecuteTime": {
     "end_time": "2025-07-15T18:18:30.443264Z",
     "start_time": "2025-07-15T18:18:30.438371Z"
    }
   },
   "cell_type": "code",
   "source": [
    "\"\"\"\n",
    "An example of string multiplication.\n",
    "Using the \"*\" operator, we can print this 10 times.\n",
    "\"\"\"\n",
    "print(\"*\" * 10)  # string multiplication"
   ],
   "id": "f58722f34089eb3d",
   "outputs": [
    {
     "name": "stdout",
     "output_type": "stream",
     "text": [
      "**********\n"
     ]
    }
   ],
   "execution_count": 5
  },
  {
   "metadata": {},
   "cell_type": "markdown",
   "source": "> ### Formatting Code",
   "id": "39bb6a3a43f3cee0"
  },
  {
   "metadata": {
    "ExecuteTime": {
     "end_time": "2025-07-15T19:37:24.354958Z",
     "start_time": "2025-07-15T19:37:24.346331Z"
    }
   },
   "cell_type": "code",
   "source": [
    "\"\"\"\n",
    "PEP 8 is a style guide for Python code\n",
    "\n",
    "Although the code below works, it's recommended to add spaces around the equal sign.\n",
    "\"\"\"\n",
    "x=1  # ugly code"
   ],
   "id": "42585eebd8298c48",
   "outputs": [],
   "execution_count": 132
  },
  {
   "metadata": {
    "ExecuteTime": {
     "end_time": "2025-07-15T19:38:46.309939Z",
     "start_time": "2025-07-15T19:38:46.303061Z"
    }
   },
   "cell_type": "code",
   "source": [
    "# Beautiful\n",
    "x = 1"
   ],
   "id": "482293b77894049",
   "outputs": [],
   "execution_count": 134
  },
  {
   "metadata": {},
   "cell_type": "markdown",
   "source": "(Python has built-in code formatting for notebooks: `Ctrl + Alt + L`)",
   "id": "fc2521f6b50d14e9"
  },
  {
   "metadata": {
    "ExecuteTime": {
     "end_time": "2025-07-15T18:18:30.793718Z",
     "start_time": "2025-07-15T18:18:30.787368Z"
    }
   },
   "cell_type": "code",
   "source": [
    "# this is ugly\n",
    "y          = 2\n",
    "unit_price = 3\n",
    "# this is ugly"
   ],
   "id": "b7905098bbe86df7",
   "outputs": [],
   "execution_count": 8
  },
  {
   "metadata": {
    "ExecuteTime": {
     "end_time": "2025-07-15T18:18:30.923857Z",
     "start_time": "2025-07-15T18:18:30.919086Z"
    }
   },
   "cell_type": "code",
   "source": [
    "# this is beautiful\n",
    "y = 2\n",
    "unit_price = 3"
   ],
   "id": "6221ba63434cf963",
   "outputs": [],
   "execution_count": 9
  },
  {
   "metadata": {},
   "cell_type": "markdown",
   "source": [
    "### Variables\n",
    "* we use variables to store data in a computer's memory"
   ],
   "id": "819faa68db357d72"
  },
  {
   "metadata": {},
   "cell_type": "markdown",
   "source": [
    "primitive types of data:\n",
    "* numbers\n",
    "* booleans\n",
    "* strings"
   ],
   "id": "9d9df6cefe0be69d"
  },
  {
   "metadata": {},
   "cell_type": "markdown",
   "source": [
    "### Variable Names\n",
    "* names should be descriptive and meaningful\n",
    "* use lowercase letters\n",
    "* use underscores to separate multiple words\n",
    "* put a space around the ` = `"
   ],
   "id": "c84827db7c2e31eb"
  },
  {
   "metadata": {
    "ExecuteTime": {
     "end_time": "2025-07-15T18:18:30.992735Z",
     "start_time": "2025-07-15T18:18:30.986797Z"
    }
   },
   "cell_type": "code",
   "source": [
    "students_count = 1000\n",
    "print(\"Student Count: \", students_count)\n",
    "rating = 4.99 # a float (floating point number)\n",
    "is_published = True\n",
    "course_name = \"Python Programming\""
   ],
   "id": "7410a40c96f507f0",
   "outputs": [
    {
     "name": "stdout",
     "output_type": "stream",
     "text": [
      "Student Count:  1000\n"
     ]
    }
   ],
   "execution_count": 10
  },
  {
   "metadata": {},
   "cell_type": "markdown",
   "source": "",
   "id": "b9423ef436b77cf8"
  },
  {
   "metadata": {},
   "cell_type": "markdown",
   "source": "### Strings",
   "id": "da16335bf7d58cf9"
  },
  {
   "metadata": {
    "ExecuteTime": {
     "end_time": "2025-07-15T18:18:31.100845Z",
     "start_time": "2025-07-15T18:18:31.091742Z"
    }
   },
   "cell_type": "code",
   "source": "course = \"Python Programming\" # surround text with quotes",
   "id": "986b53b568f5b4fe",
   "outputs": [],
   "execution_count": 11
  },
  {
   "metadata": {},
   "cell_type": "markdown",
   "source": "> Use triple quotes around a long string",
   "id": "b9f94738bb8b0054"
  },
  {
   "metadata": {
    "ExecuteTime": {
     "end_time": "2025-07-15T18:18:31.188801Z",
     "start_time": "2025-07-15T18:18:31.182973Z"
    }
   },
   "cell_type": "code",
   "source": [
    "message = \"\"\"\n",
    "Hi, Xeribo\n",
    "\n",
    "This is Nyambi from Bakolong Data Garden.\n",
    "\n",
    "yada yada\n",
    "\"\"\""
   ],
   "id": "22104015c9f80e1f",
   "outputs": [],
   "execution_count": 12
  },
  {
   "metadata": {},
   "cell_type": "markdown",
   "source": [
    "#### len()\n",
    "* gets the length of a string (number of characters)"
   ],
   "id": "888c64eaf95b4c81"
  },
  {
   "metadata": {
    "ExecuteTime": {
     "end_time": "2025-07-15T18:18:31.230369Z",
     "start_time": "2025-07-15T18:18:31.223273Z"
    }
   },
   "cell_type": "code",
   "source": [
    "course = \"Python Programming\"\n",
    "print(len(course))"
   ],
   "id": "f9dd96372ed04484",
   "outputs": [
    {
     "name": "stdout",
     "output_type": "stream",
     "text": [
      "18\n"
     ]
    }
   ],
   "execution_count": 13
  },
  {
   "metadata": {},
   "cell_type": "markdown",
   "source": [
    "### indexing []\n",
    "* get access to a specific character in a string"
   ],
   "id": "ecc117f31c9526d9"
  },
  {
   "metadata": {
    "ExecuteTime": {
     "end_time": "2025-07-15T18:18:31.342401Z",
     "start_time": "2025-07-15T18:18:31.336488Z"
    }
   },
   "cell_type": "code",
   "source": "print(course[0]) # get the first character",
   "id": "1b34c2d9b2cb9cf0",
   "outputs": [
    {
     "name": "stdout",
     "output_type": "stream",
     "text": [
      "P\n"
     ]
    }
   ],
   "execution_count": 14
  },
  {
   "metadata": {
    "ExecuteTime": {
     "end_time": "2025-07-15T18:18:31.539271Z",
     "start_time": "2025-07-15T18:18:31.534947Z"
    }
   },
   "cell_type": "code",
   "source": "print(course[-1]) # get last character (negative index)",
   "id": "8ffb5076216d5d9",
   "outputs": [
    {
     "name": "stdout",
     "output_type": "stream",
     "text": [
      "g\n"
     ]
    }
   ],
   "execution_count": 15
  },
  {
   "metadata": {},
   "cell_type": "markdown",
   "source": [
    "### slicing [:]\n",
    "* returns a new string"
   ],
   "id": "756d8da794281fbc"
  },
  {
   "metadata": {
    "ExecuteTime": {
     "end_time": "2025-07-15T18:18:31.635024Z",
     "start_time": "2025-07-15T18:18:31.628970Z"
    }
   },
   "cell_type": "code",
   "source": "print(course[0:3]) # new string that contains first 3 characters",
   "id": "423886bb00271b0c",
   "outputs": [
    {
     "name": "stdout",
     "output_type": "stream",
     "text": [
      "Pyt\n"
     ]
    }
   ],
   "execution_count": 16
  },
  {
   "metadata": {
    "ExecuteTime": {
     "end_time": "2025-07-15T18:18:31.734149Z",
     "start_time": "2025-07-15T18:18:31.728012Z"
    }
   },
   "cell_type": "code",
   "source": "print(course[0:]) # returns new string exactly the same as original",
   "id": "b63d9847f777c63d",
   "outputs": [
    {
     "name": "stdout",
     "output_type": "stream",
     "text": [
      "Python Programming\n"
     ]
    }
   ],
   "execution_count": 17
  },
  {
   "metadata": {
    "ExecuteTime": {
     "end_time": "2025-07-15T18:18:31.824443Z",
     "start_time": "2025-07-15T18:18:31.820925Z"
    }
   },
   "cell_type": "code",
   "source": "print(course[:3]) # new strings contains characters up to the end point",
   "id": "834367d2208c7c79",
   "outputs": [
    {
     "name": "stdout",
     "output_type": "stream",
     "text": [
      "Pyt\n"
     ]
    }
   ],
   "execution_count": 18
  },
  {
   "metadata": {
    "ExecuteTime": {
     "end_time": "2025-07-15T18:18:31.920720Z",
     "start_time": "2025-07-15T18:18:31.916744Z"
    }
   },
   "cell_type": "code",
   "source": "print(course[:]) # prints copy of the original string",
   "id": "a177f77fb4e88ba6",
   "outputs": [
    {
     "name": "stdout",
     "output_type": "stream",
     "text": [
      "Python Programming\n"
     ]
    }
   ],
   "execution_count": 19
  },
  {
   "metadata": {},
   "cell_type": "markdown",
   "source": "### Escape Sequences",
   "id": "86bc67a011e3c07d"
  },
  {
   "metadata": {
    "ExecuteTime": {
     "end_time": "2025-07-15T18:18:32.037850Z",
     "start_time": "2025-07-15T18:18:32.032343Z"
    }
   },
   "cell_type": "code",
   "source": [
    "course = \"Python \\\"Programming\"\n",
    "print(course)"
   ],
   "id": "7ee3ed0355887508",
   "outputs": [
    {
     "name": "stdout",
     "output_type": "stream",
     "text": [
      "Python \"Programming\n"
     ]
    }
   ],
   "execution_count": 20
  },
  {
   "metadata": {},
   "cell_type": "markdown",
   "source": [
    ">  `\\` (backslash) is an escape character\n",
    "> `\\\"` is an escape sequence"
   ],
   "id": "f852e8ec2896643c"
  },
  {
   "metadata": {
    "ExecuteTime": {
     "end_time": "2025-07-15T18:18:32.145091Z",
     "start_time": "2025-07-15T18:18:32.139691Z"
    }
   },
   "cell_type": "code",
   "source": [
    "# \\\" backslash double quote\n",
    "# \\' backslash single quote\n",
    "# \\\\ if you want to include a backslash in your string\n",
    "# \\n new line"
   ],
   "id": "6de52ce9aef92de3",
   "outputs": [],
   "execution_count": 21
  },
  {
   "metadata": {},
   "cell_type": "markdown",
   "source": "### Formatted Strings",
   "id": "7afb9585ef5f59bd"
  },
  {
   "metadata": {
    "ExecuteTime": {
     "end_time": "2025-07-15T18:18:32.200411Z",
     "start_time": "2025-07-15T18:18:32.195519Z"
    }
   },
   "cell_type": "code",
   "source": [
    "# concatenation\n",
    "first = \"Nyambi\"\n",
    "last = \"Bakolong\"\n",
    "full = first + \" \" + last\n",
    "print(full)"
   ],
   "id": "40c2a7c57617159d",
   "outputs": [
    {
     "name": "stdout",
     "output_type": "stream",
     "text": [
      "Nyambi Bakolong\n"
     ]
    }
   ],
   "execution_count": 22
  },
  {
   "metadata": {
    "ExecuteTime": {
     "end_time": "2025-07-15T18:18:32.291184Z",
     "start_time": "2025-07-15T18:18:32.287300Z"
    }
   },
   "cell_type": "code",
   "source": [
    "# formatted string (f-string)\n",
    "full = f\"{first} {last}\"\n",
    "print(full)"
   ],
   "id": "589015af86da8dd2",
   "outputs": [
    {
     "name": "stdout",
     "output_type": "stream",
     "text": [
      "Nyambi Bakolong\n"
     ]
    }
   ],
   "execution_count": 23
  },
  {
   "metadata": {
    "ExecuteTime": {
     "end_time": "2025-07-15T18:18:32.371700Z",
     "start_time": "2025-07-15T18:18:32.366604Z"
    }
   },
   "cell_type": "code",
   "source": [
    "# you can also include functions inside the curly braces\n",
    "full = f\"{len(first)} {last}\"\n",
    "print(full)"
   ],
   "id": "d78d5971cde7ebc4",
   "outputs": [
    {
     "name": "stdout",
     "output_type": "stream",
     "text": [
      "6 Bakolong\n"
     ]
    }
   ],
   "execution_count": 24
  },
  {
   "metadata": {
    "ExecuteTime": {
     "end_time": "2025-07-15T18:18:32.459391Z",
     "start_time": "2025-07-15T18:18:32.453616Z"
    }
   },
   "cell_type": "code",
   "source": [
    "# you can also include functions inside the curly braces\n",
    "full = f\"{len(first)} {2 + 2}\"\n",
    "print(full)"
   ],
   "id": "e849d8aa172d207b",
   "outputs": [
    {
     "name": "stdout",
     "output_type": "stream",
     "text": [
      "6 4\n"
     ]
    }
   ],
   "execution_count": 25
  },
  {
   "metadata": {},
   "cell_type": "markdown",
   "source": [
    "### String Methods\n",
    "* everything in Python is an objects\n",
    "* objects have function (methods) we can access using dot notation\n",
    "* returns a new string, original string is not affected"
   ],
   "id": "a4b0f7db88f7458e"
  },
  {
   "metadata": {
    "ExecuteTime": {
     "end_time": "2025-07-15T18:18:32.552943Z",
     "start_time": "2025-07-15T18:18:32.548174Z"
    }
   },
   "cell_type": "code",
   "source": [
    "course = \"bakolong data garden\"\n",
    "print(course.upper()) # convert string to uppercase"
   ],
   "id": "3f5f8d7a653a4e1e",
   "outputs": [
    {
     "name": "stdout",
     "output_type": "stream",
     "text": [
      "BAKOLONG DATA GARDEN\n"
     ]
    }
   ],
   "execution_count": 26
  },
  {
   "metadata": {
    "ExecuteTime": {
     "end_time": "2025-07-15T18:18:32.645964Z",
     "start_time": "2025-07-15T18:18:32.640194Z"
    }
   },
   "cell_type": "code",
   "source": "print(course.lower()) # convert string to lowercase",
   "id": "d0ed344a1cf80861",
   "outputs": [
    {
     "name": "stdout",
     "output_type": "stream",
     "text": [
      "bakolong data garden\n"
     ]
    }
   ],
   "execution_count": 27
  },
  {
   "metadata": {
    "ExecuteTime": {
     "end_time": "2025-07-15T18:18:32.732825Z",
     "start_time": "2025-07-15T18:18:32.726113Z"
    }
   },
   "cell_type": "code",
   "source": "print(course.title()) # capitalize the first letter of every word",
   "id": "1b075da4ac0ffd23",
   "outputs": [
    {
     "name": "stdout",
     "output_type": "stream",
     "text": [
      "Bakolong Data Garden\n"
     ]
    }
   ],
   "execution_count": 28
  },
  {
   "metadata": {
    "ExecuteTime": {
     "end_time": "2025-07-15T18:18:32.820584Z",
     "start_time": "2025-07-15T18:18:32.816568Z"
    }
   },
   "cell_type": "code",
   "source": [
    "# Trim whitespace\n",
    "course = \"   python programming\"\n",
    "print(course)\n",
    "print(course.strip())"
   ],
   "id": "982c56572c49e59c",
   "outputs": [
    {
     "name": "stdout",
     "output_type": "stream",
     "text": [
      "   python programming\n",
      "python programming\n"
     ]
    }
   ],
   "execution_count": 29
  },
  {
   "metadata": {},
   "cell_type": "markdown",
   "source": "> .find()",
   "id": "caed9d42422e274"
  },
  {
   "metadata": {
    "ExecuteTime": {
     "end_time": "2025-07-15T18:18:32.916178Z",
     "start_time": "2025-07-15T18:18:32.908358Z"
    }
   },
   "cell_type": "code",
   "source": [
    "# Get index of a character or sequence of characters\n",
    "course = \"python programming\"\n",
    "course.find(\"pro\")"
   ],
   "id": "4dadde0335e1e774",
   "outputs": [
    {
     "data": {
      "text/plain": [
       "7"
      ]
     },
     "execution_count": 30,
     "metadata": {},
     "output_type": "execute_result"
    }
   ],
   "execution_count": 30
  },
  {
   "metadata": {},
   "cell_type": "markdown",
   "source": "> .replace()",
   "id": "1e9edc37b24ff267"
  },
  {
   "metadata": {
    "ExecuteTime": {
     "end_time": "2025-07-15T18:18:33.014489Z",
     "start_time": "2025-07-15T18:18:33.007288Z"
    }
   },
   "cell_type": "code",
   "source": [
    "# replace a character or sequence of character\n",
    "course.replace(\"p\", \"z\")"
   ],
   "id": "1d450141130b4bfc",
   "outputs": [
    {
     "data": {
      "text/plain": [
       "'zython zrogramming'"
      ]
     },
     "execution_count": 31,
     "metadata": {},
     "output_type": "execute_result"
    }
   ],
   "execution_count": 31
  },
  {
   "metadata": {},
   "cell_type": "markdown",
   "source": "> `in` operator",
   "id": "2ab76fc585d112df"
  },
  {
   "metadata": {
    "ExecuteTime": {
     "end_time": "2025-07-15T18:18:33.140211Z",
     "start_time": "2025-07-15T18:18:33.134898Z"
    }
   },
   "cell_type": "code",
   "source": [
    "# check for the existence of a character or sequence of characters\n",
    "print(\"pro\" in course)"
   ],
   "id": "83dbc37643360082",
   "outputs": [
    {
     "name": "stdout",
     "output_type": "stream",
     "text": [
      "True\n"
     ]
    }
   ],
   "execution_count": 32
  },
  {
   "metadata": {
    "ExecuteTime": {
     "end_time": "2025-07-15T18:18:33.243246Z",
     "start_time": "2025-07-15T18:18:33.240123Z"
    }
   },
   "cell_type": "code",
   "source": "print(\"swift\" not in course)",
   "id": "7beb75ccb2597497",
   "outputs": [
    {
     "name": "stdout",
     "output_type": "stream",
     "text": [
      "True\n"
     ]
    }
   ],
   "execution_count": 33
  },
  {
   "metadata": {},
   "cell_type": "markdown",
   "source": "### Numbers",
   "id": "877052423386ddd5"
  },
  {
   "metadata": {
    "ExecuteTime": {
     "end_time": "2025-07-15T18:18:33.320903Z",
     "start_time": "2025-07-15T18:18:33.316368Z"
    }
   },
   "cell_type": "code",
   "source": [
    "x = 1 # integer\n",
    "x = 1.1 # float\n",
    "x = 1 + 2j # complex number"
   ],
   "id": "c00e74486a170c3d",
   "outputs": [],
   "execution_count": 34
  },
  {
   "metadata": {},
   "cell_type": "markdown",
   "source": "> operators",
   "id": "c00bcbedf1c3bea2"
  },
  {
   "metadata": {
    "ExecuteTime": {
     "end_time": "2025-07-15T18:18:33.369021Z",
     "start_time": "2025-07-15T18:18:33.364364Z"
    }
   },
   "cell_type": "code",
   "source": [
    "print(9 + 9)\n",
    "print(9 - 9)\n",
    "print(9 * 9)\n",
    "print(10 / 3) # float division (true division)\n",
    "print(10 // 3) # int division"
   ],
   "id": "a09ca65ae840c7f5",
   "outputs": [
    {
     "name": "stdout",
     "output_type": "stream",
     "text": [
      "18\n",
      "0\n",
      "81\n",
      "3.3333333333333335\n",
      "3\n"
     ]
    }
   ],
   "execution_count": 35
  },
  {
   "metadata": {
    "ExecuteTime": {
     "end_time": "2025-07-15T18:18:33.466300Z",
     "start_time": "2025-07-15T18:18:33.460346Z"
    }
   },
   "cell_type": "code",
   "source": [
    "# all of these are the same\n",
    "x = 9\n",
    "x = x + 9\n",
    "x += 9"
   ],
   "id": "bd46e8d29792ecb7",
   "outputs": [],
   "execution_count": 36
  },
  {
   "metadata": {},
   "cell_type": "markdown",
   "source": "### Working With Numbers",
   "id": "4e690b86aefa02c8"
  },
  {
   "metadata": {
    "ExecuteTime": {
     "end_time": "2025-07-15T18:18:33.512333Z",
     "start_time": "2025-07-15T18:18:33.507093Z"
    }
   },
   "cell_type": "code",
   "source": [
    "# round a number\n",
    "print(round(9.99))"
   ],
   "id": "2f6f541d57effe3c",
   "outputs": [
    {
     "name": "stdout",
     "output_type": "stream",
     "text": [
      "10\n"
     ]
    }
   ],
   "execution_count": 37
  },
  {
   "metadata": {
    "ExecuteTime": {
     "end_time": "2025-07-15T18:18:33.605139Z",
     "start_time": "2025-07-15T18:18:33.600390Z"
    }
   },
   "cell_type": "code",
   "source": [
    "# return the absolute value of a number\n",
    "print(abs(-9.9))"
   ],
   "id": "b639ce45641493e3",
   "outputs": [
    {
     "name": "stdout",
     "output_type": "stream",
     "text": [
      "9.9\n"
     ]
    }
   ],
   "execution_count": 38
  },
  {
   "metadata": {},
   "cell_type": "markdown",
   "source": "> Use `import math` to do more complex mathematical functions",
   "id": "847cefc69d275054"
  },
  {
   "metadata": {
    "ExecuteTime": {
     "end_time": "2025-07-15T18:18:33.693092Z",
     "start_time": "2025-07-15T18:18:33.688319Z"
    }
   },
   "cell_type": "code",
   "source": "import math",
   "id": "5df09dfbbbf9622e",
   "outputs": [],
   "execution_count": 39
  },
  {
   "metadata": {},
   "cell_type": "markdown",
   "source": "> typing `math.` will show you all the methods available to this object",
   "id": "62a4fc19ff03c790"
  },
  {
   "metadata": {
    "ExecuteTime": {
     "end_time": "2025-07-15T18:18:33.742476Z",
     "start_time": "2025-07-15T18:18:33.736247Z"
    }
   },
   "cell_type": "code",
   "source": [
    "# get the ceiling of a number.\n",
    "math.ceil(2.2)"
   ],
   "id": "501e4d8c2564cba",
   "outputs": [
    {
     "data": {
      "text/plain": [
       "3"
      ]
     },
     "execution_count": 40,
     "metadata": {},
     "output_type": "execute_result"
    }
   ],
   "execution_count": 40
  },
  {
   "metadata": {},
   "cell_type": "markdown",
   "source": "The \"**ceiling**\" of a number is the smallest integer that is greater than or equal to that number. In other words, it always **rounds UP** to the next whole number.\n",
   "id": "e1787047cc7e78ef"
  },
  {
   "metadata": {
    "ExecuteTime": {
     "end_time": "2025-07-15T18:18:33.817205Z",
     "start_time": "2025-07-15T18:18:33.810207Z"
    }
   },
   "cell_type": "code",
   "source": [
    "# practical example of using math.ceil()\n",
    "# How many irrigation cycles needed for 15.3 hours of watering?\n",
    "watering_time = 15.3\n",
    "cycle_duration = 4  # hours per cycle\n",
    "cycles = math.ceil(watering_time / cycle_duration)  # 4 cycles"
   ],
   "id": "e28f271ea86e39f6",
   "outputs": [],
   "execution_count": 41
  },
  {
   "metadata": {},
   "cell_type": "markdown",
   "source": [
    "The **key insight**: When you're dealing with discrete units (things that can't be split), you always need the full unit to handle any remainder.\n",
    "More examples of this pattern:\n",
    "\n",
    "* Boxes: Need 3.2 boxes worth of space? You need 4 actual boxes\n",
    "* Buses: Need 2.1 buses worth of capacity? You need 3 buses\n",
    "* Database pages: Need 1.5 pages of storage? You need 2 pages\n",
    "* Workers: Need 4.3 workers worth of labor? You need 5 workers"
   ],
   "id": "ca8f5803add6e8ff"
  },
  {
   "metadata": {},
   "cell_type": "markdown",
   "source": "> Tinkering with `math.`",
   "id": "35f5ce9df37b529f"
  },
  {
   "metadata": {
    "ExecuteTime": {
     "end_time": "2025-07-15T18:18:33.845902Z",
     "start_time": "2025-07-15T18:18:33.838557Z"
    }
   },
   "cell_type": "code",
   "source": [
    "# Basic Rounding Functions\n",
    "print(math.ceil(9.9))# round up\n",
    "print(math.floor(9.9)) # round down\n",
    "print(math.trunc(9.9)) # remove decimal part"
   ],
   "id": "17b5d6866c275a3d",
   "outputs": [
    {
     "name": "stdout",
     "output_type": "stream",
     "text": [
      "10\n",
      "9\n",
      "9\n"
     ]
    }
   ],
   "execution_count": 42
  },
  {
   "metadata": {
    "ExecuteTime": {
     "end_time": "2025-07-15T18:18:33.905733Z",
     "start_time": "2025-07-15T18:18:33.899867Z"
    }
   },
   "cell_type": "code",
   "source": [
    "# Power & Root Functions\n",
    "print(math.pow(2,3)) # 2 to the power of 3\n",
    "print(math.sqrt(16)) # square root"
   ],
   "id": "e45ded0daef2b6d1",
   "outputs": [
    {
     "name": "stdout",
     "output_type": "stream",
     "text": [
      "8.0\n",
      "4.0\n"
     ]
    }
   ],
   "execution_count": 43
  },
  {
   "metadata": {},
   "cell_type": "markdown",
   "source": "### Type Conversion",
   "id": "51bbe652bb908e0f"
  },
  {
   "metadata": {},
   "cell_type": "markdown",
   "source": [
    "> input is read as a string unless you convert\n",
    ">\n",
    "> This would lead to an error\n",
    ">\n",
    "> `x = input(\"x: \")`\n",
    ">\n",
    ">`y = x + 1`\n",
    ">\n",
    ">`print(y)`"
   ],
   "id": "809a87962010eef7"
  },
  {
   "metadata": {
    "ExecuteTime": {
     "end_time": "2025-07-15T18:18:38.386938Z",
     "start_time": "2025-07-15T18:18:33.981663Z"
    }
   },
   "cell_type": "code",
   "source": [
    "x = input(\"x: \")\n",
    "y = int(x) + 1 # convert input to string then add 1\n",
    "print(y)"
   ],
   "id": "a08e3055f18876b",
   "outputs": [
    {
     "name": "stdout",
     "output_type": "stream",
     "text": [
      "3\n"
     ]
    }
   ],
   "execution_count": 44
  },
  {
   "metadata": {
    "ExecuteTime": {
     "end_time": "2025-07-15T18:18:41.573544Z",
     "start_time": "2025-07-15T18:18:38.464630Z"
    }
   },
   "cell_type": "code",
   "source": [
    "x = input(\"x: \")\n",
    "y = int(x) + 1\n",
    "print(f\"x: {x}, y: {y}\")"
   ],
   "id": "9d4e39ad17f00cb7",
   "outputs": [
    {
     "name": "stdout",
     "output_type": "stream",
     "text": [
      "x: 2, y: 3\n"
     ]
    }
   ],
   "execution_count": 45
  },
  {
   "metadata": {},
   "cell_type": "markdown",
   "source": [
    "> Falsy values in python\n",
    "* ` \"\" `\n",
    "* ` 0 `\n",
    "* ` None `"
   ],
   "id": "1e1fc670f6d9f005"
  },
  {
   "metadata": {
    "ExecuteTime": {
     "end_time": "2025-07-15T18:18:41.709771Z",
     "start_time": "2025-07-15T18:18:41.703880Z"
    }
   },
   "cell_type": "code",
   "source": [
    "print(\"bool(0):\", bool(0))\n",
    "print(\"bool(1):\", bool(1))\n",
    "print(\"bool(-1):\", bool(-1))\n",
    "print(\"bool(5):\", bool(5))\n",
    "\n",
    "# only get false when we try to convert zero"
   ],
   "id": "58072ae477b6a2b0",
   "outputs": [
    {
     "name": "stdout",
     "output_type": "stream",
     "text": [
      "bool(0): False\n",
      "bool(1): True\n",
      "bool(-1): True\n",
      "bool(5): True\n"
     ]
    }
   ],
   "execution_count": 46
  },
  {
   "metadata": {
    "ExecuteTime": {
     "end_time": "2025-07-15T18:18:41.807559Z",
     "start_time": "2025-07-15T18:18:41.802156Z"
    }
   },
   "cell_type": "code",
   "source": [
    "# an empty string is also falsey\n",
    "print(\"bool(\"\"):\", bool(\"\"))\n",
    "\n",
    "# anything else is true\n",
    "print(\"bool(False):\", bool(False))"
   ],
   "id": "c1da5e4900ee9a70",
   "outputs": [
    {
     "name": "stdout",
     "output_type": "stream",
     "text": [
      "bool(): False\n",
      "bool(False): False\n"
     ]
    }
   ],
   "execution_count": 47
  },
  {
   "metadata": {
    "ExecuteTime": {
     "end_time": "2025-07-15T18:18:41.885798Z",
     "start_time": "2025-07-15T18:18:41.881765Z"
    }
   },
   "cell_type": "code",
   "source": [
    "fruit = \"Apple\"\n",
    "print(fruit[1:-1]) # starting from second character to the last character\n",
    "# (excluding the last character)"
   ],
   "id": "9b8c86a868f89066",
   "outputs": [
    {
     "name": "stdout",
     "output_type": "stream",
     "text": [
      "ppl\n"
     ]
    }
   ],
   "execution_count": 48
  },
  {
   "metadata": {
    "ExecuteTime": {
     "end_time": "2025-07-15T18:18:41.974824Z",
     "start_time": "2025-07-15T18:18:41.968422Z"
    }
   },
   "cell_type": "code",
   "source": "10 % 3 # modulus operator returns remainder of division",
   "id": "62488ac4a2943c19",
   "outputs": [
    {
     "data": {
      "text/plain": [
       "1"
      ]
     },
     "execution_count": 49,
     "metadata": {},
     "output_type": "execute_result"
    }
   ],
   "execution_count": 49
  },
  {
   "metadata": {
    "ExecuteTime": {
     "end_time": "2025-07-15T18:18:42.066112Z",
     "start_time": "2025-07-15T18:18:42.060675Z"
    }
   },
   "cell_type": "code",
   "source": "print(bool(\"False\")) # not an empty string so it's Truthy",
   "id": "95012e6b4341768a",
   "outputs": [
    {
     "name": "stdout",
     "output_type": "stream",
     "text": [
      "True\n"
     ]
    }
   ],
   "execution_count": 50
  },
  {
   "metadata": {},
   "cell_type": "markdown",
   "source": "## Fundamentals of Programming",
   "id": "d2df223547f6cbaa"
  },
  {
   "metadata": {},
   "cell_type": "markdown",
   "source": [
    "### Comparison Operators\n",
    "> we use these to compare values"
   ],
   "id": "d54cf21c324f5893"
  },
  {
   "metadata": {
    "ExecuteTime": {
     "end_time": "2025-07-15T18:18:42.147010Z",
     "start_time": "2025-07-15T18:18:42.139869Z"
    }
   },
   "cell_type": "code",
   "source": [
    "# boolean expressions: true of false?\n",
    "print(10 > 3) # greater than\n",
    "print(10 >= 3) # greater than or equal to\n",
    "print(10 < 20) # less than\n",
    "print(10 <= 20) # less than or equal to\n",
    "print(10 == 10) # equal to\n",
    "print(10 == \"10\") # will evaluate to false because \"10\" is a string\n",
    "print(10 != \"10\") # not equal to"
   ],
   "id": "2e46f63253cf38eb",
   "outputs": [
    {
     "name": "stdout",
     "output_type": "stream",
     "text": [
      "True\n",
      "True\n",
      "True\n",
      "True\n",
      "True\n",
      "False\n",
      "True\n"
     ]
    }
   ],
   "execution_count": 51
  },
  {
   "metadata": {
    "ExecuteTime": {
     "end_time": "2025-07-15T18:18:42.237089Z",
     "start_time": "2025-07-15T18:18:42.231186Z"
    }
   },
   "cell_type": "code",
   "source": [
    "\"flow\" > \"bag\"\n",
    "\n",
    "# f vs. b: 'f' comes after 'b' in the alphabet\n",
    "# Since 'f' > 'b', the comparison stops here and returns True\n",
    "# (ASCII: 'b' = 98 & 'f' = 102)"
   ],
   "id": "c9ded36e36f501c2",
   "outputs": [
    {
     "data": {
      "text/plain": [
       "True"
      ]
     },
     "execution_count": 52,
     "metadata": {},
     "output_type": "execute_result"
    }
   ],
   "execution_count": 52
  },
  {
   "metadata": {
    "ExecuteTime": {
     "end_time": "2025-07-15T18:18:42.317668Z",
     "start_time": "2025-07-15T18:18:42.311444Z"
    }
   },
   "cell_type": "code",
   "source": [
    "\"bag\" == \"BAG\"\n",
    "# False because every character in programming has a numeric representation\n",
    "# Different ASCII codes for upper and lowercase letters"
   ],
   "id": "8f6f309452a55f22",
   "outputs": [
    {
     "data": {
      "text/plain": [
       "False"
      ]
     },
     "execution_count": 53,
     "metadata": {},
     "output_type": "execute_result"
    }
   ],
   "execution_count": 53
  },
  {
   "metadata": {
    "ExecuteTime": {
     "end_time": "2025-07-15T18:18:42.398860Z",
     "start_time": "2025-07-15T18:18:42.391759Z"
    }
   },
   "cell_type": "code",
   "source": [
    "# a super easy way to look up ASCII codes\n",
    "ord(\"N\")"
   ],
   "id": "4a2dc29ce7f639ae",
   "outputs": [
    {
     "data": {
      "text/plain": [
       "78"
      ]
     },
     "execution_count": 54,
     "metadata": {},
     "output_type": "execute_result"
    }
   ],
   "execution_count": 54
  },
  {
   "metadata": {},
   "cell_type": "markdown",
   "source": "> ASCII: \"Nyambi\"",
   "id": "5a11039051cbf873"
  },
  {
   "metadata": {
    "ExecuteTime": {
     "end_time": "2025-07-15T18:18:42.482994Z",
     "start_time": "2025-07-15T18:18:42.474856Z"
    }
   },
   "cell_type": "code",
   "source": [
    "# Let's look up our whole name\n",
    "[ord(char) for char in \"Nyambi\"]"
   ],
   "id": "7c0f8dd927ef4aaf",
   "outputs": [
    {
     "data": {
      "text/plain": [
       "[78, 121, 97, 109, 98, 105]"
      ]
     },
     "execution_count": 55,
     "metadata": {},
     "output_type": "execute_result"
    }
   ],
   "execution_count": 55
  },
  {
   "metadata": {
    "ExecuteTime": {
     "end_time": "2025-07-15T18:18:42.564969Z",
     "start_time": "2025-07-15T18:18:42.558294Z"
    }
   },
   "cell_type": "code",
   "source": [
    "for char in \"Nyambi\":\n",
    "    print(f\"{char}: {ord(char)}\")"
   ],
   "id": "7d6316253e91422d",
   "outputs": [
    {
     "name": "stdout",
     "output_type": "stream",
     "text": [
      "N: 78\n",
      "y: 121\n",
      "a: 97\n",
      "m: 109\n",
      "b: 98\n",
      "i: 105\n"
     ]
    }
   ],
   "execution_count": 56
  },
  {
   "metadata": {},
   "cell_type": "markdown",
   "source": [
    "### Conditional Statements\n",
    "> we need to make decisions based on conditions"
   ],
   "id": "b7c8575e8f8a9d89"
  },
  {
   "metadata": {
    "ExecuteTime": {
     "end_time": "2025-07-15T18:18:42.647070Z",
     "start_time": "2025-07-15T18:18:42.640313Z"
    }
   },
   "cell_type": "code",
   "source": [
    "temperature = 35\n",
    "if temperature > 30:\n",
    "    print(\"It's warm\")\n",
    "    print(\"Drink water\")\n",
    "print(\"Done\") # runs whether condition is true of not (outside of if block)"
   ],
   "id": "89fc5014979f5a6f",
   "outputs": [
    {
     "name": "stdout",
     "output_type": "stream",
     "text": [
      "It's warm\n",
      "Drink water\n",
      "Done\n"
     ]
    }
   ],
   "execution_count": 57
  },
  {
   "metadata": {
    "ExecuteTime": {
     "end_time": "2025-07-15T18:18:42.725780Z",
     "start_time": "2025-07-15T18:18:42.719960Z"
    }
   },
   "cell_type": "code",
   "source": [
    "temperature = 15\n",
    "if temperature > 30:\n",
    "    print(\"It's warm\")\n",
    "    print(\"Drink water\")\n",
    "print(\"Done\")"
   ],
   "id": "362471b2100c1f59",
   "outputs": [
    {
     "name": "stdout",
     "output_type": "stream",
     "text": [
      "Done\n"
     ]
    }
   ],
   "execution_count": 58
  },
  {
   "metadata": {
    "ExecuteTime": {
     "end_time": "2025-07-15T18:18:42.817181Z",
     "start_time": "2025-07-15T18:18:42.812904Z"
    }
   },
   "cell_type": "code",
   "source": [
    "# elif: for multiple conditions\n",
    "temperature = 21\n",
    "if temperature > 30:\n",
    "    print(\"It's warm\")\n",
    "    print(\"Drink water\")\n",
    "elif temperature > 20:\n",
    "    print(\"It's nice\")\n",
    "print(\"Done\")"
   ],
   "id": "82a229ce3a69f6c1",
   "outputs": [
    {
     "name": "stdout",
     "output_type": "stream",
     "text": [
      "It's nice\n",
      "Done\n"
     ]
    }
   ],
   "execution_count": 59
  },
  {
   "metadata": {
    "ExecuteTime": {
     "end_time": "2025-07-15T18:18:42.902121Z",
     "start_time": "2025-07-15T18:18:42.896658Z"
    }
   },
   "cell_type": "code",
   "source": [
    "# else: none of the previous conditions are true\n",
    "temperature = 15\n",
    "if temperature > 30:\n",
    "    print(\"It's warm\")\n",
    "    print(\"Drink water\")\n",
    "elif temperature > 20:\n",
    "    print(\"It's nice\")\n",
    "else:\n",
    "    print(\"It's cold\")\n",
    "print(\"Done\")"
   ],
   "id": "c948cc0a9d694e53",
   "outputs": [
    {
     "name": "stdout",
     "output_type": "stream",
     "text": [
      "It's cold\n",
      "Done\n"
     ]
    }
   ],
   "execution_count": 60
  },
  {
   "metadata": {},
   "cell_type": "markdown",
   "source": "### Ternary Operator",
   "id": "4044126b1dcf3f34"
  },
  {
   "metadata": {
    "ExecuteTime": {
     "end_time": "2025-07-15T18:18:42.987932Z",
     "start_time": "2025-07-15T18:18:42.983782Z"
    }
   },
   "cell_type": "code",
   "source": [
    "age = 22\n",
    "if age >= 18:\n",
    "    print(\"Eligible\")\n",
    "else:\n",
    "    print(\"Not eligible\")"
   ],
   "id": "9cf38db39e60bdf2",
   "outputs": [
    {
     "name": "stdout",
     "output_type": "stream",
     "text": [
      "Eligible\n"
     ]
    }
   ],
   "execution_count": 61
  },
  {
   "metadata": {
    "ExecuteTime": {
     "end_time": "2025-07-15T18:18:43.083348Z",
     "start_time": "2025-07-15T18:18:43.074620Z"
    }
   },
   "cell_type": "code",
   "source": [
    "# a cleaner way to achieve the same result ...\n",
    "age = 22\n",
    "if age >= 18:\n",
    "    message = \"Eligible\" # assign value to message variable\n",
    "else:\n",
    "    message = \"Not eligible\"\n",
    "print(message)"
   ],
   "id": "8913f300c2479eb1",
   "outputs": [
    {
     "name": "stdout",
     "output_type": "stream",
     "text": [
      "Eligible\n"
     ]
    }
   ],
   "execution_count": 62
  },
  {
   "metadata": {
    "ExecuteTime": {
     "end_time": "2025-07-15T18:18:43.184957Z",
     "start_time": "2025-07-15T18:18:43.175844Z"
    }
   },
   "cell_type": "code",
   "source": [
    "# rewrite in a simpler way\n",
    "age = 22\n",
    "message = \"Eligible\" if age >= 18 else \"Not eligible\" # almost like plain english:)\n",
    "print(message)"
   ],
   "id": "2740b0f6864b8a57",
   "outputs": [
    {
     "name": "stdout",
     "output_type": "stream",
     "text": [
      "Eligible\n"
     ]
    }
   ],
   "execution_count": 63
  },
  {
   "metadata": {},
   "cell_type": "markdown",
   "source": "### Logical Operators",
   "id": "b444b9941100ca85"
  },
  {
   "metadata": {
    "ExecuteTime": {
     "end_time": "2025-07-15T18:18:43.287983Z",
     "start_time": "2025-07-15T18:18:43.282393Z"
    }
   },
   "cell_type": "code",
   "source": [
    "high_income = True\n",
    "good_credit = True\n",
    "\n",
    "if high_income and good_credit:\n",
    "    print(\"Eligible\")"
   ],
   "id": "60914114e86e3395",
   "outputs": [
    {
     "name": "stdout",
     "output_type": "stream",
     "text": [
      "Eligible\n"
     ]
    }
   ],
   "execution_count": 64
  },
  {
   "metadata": {
    "ExecuteTime": {
     "end_time": "2025-07-15T18:18:43.384289Z",
     "start_time": "2025-07-15T18:18:43.377997Z"
    }
   },
   "cell_type": "code",
   "source": [
    "high_income = False\n",
    "good_credit = True\n",
    "\n",
    "if high_income and good_credit:\n",
    "    print(\"Eligible\")\n",
    "else:\n",
    "    print(\"Not eligible\")"
   ],
   "id": "56a96d5b81c5cbdb",
   "outputs": [
    {
     "name": "stdout",
     "output_type": "stream",
     "text": [
      "Not eligible\n"
     ]
    }
   ],
   "execution_count": 65
  },
  {
   "metadata": {},
   "cell_type": "markdown",
   "source": "> `and` operator: BOTH conditions must be `True`",
   "id": "f16db9b3baf9e5d6"
  },
  {
   "metadata": {
    "ExecuteTime": {
     "end_time": "2025-07-15T18:18:43.483222Z",
     "start_time": "2025-07-15T18:18:43.474820Z"
    }
   },
   "cell_type": "code",
   "source": [
    "high_income = False\n",
    "good_credit = True\n",
    "\n",
    "if high_income or good_credit:\n",
    "    print(\"Eligible\")\n",
    "else:\n",
    "    print(\"Not eligible\")"
   ],
   "id": "49486c5efa4f98de",
   "outputs": [
    {
     "name": "stdout",
     "output_type": "stream",
     "text": [
      "Eligible\n"
     ]
    }
   ],
   "execution_count": 66
  },
  {
   "metadata": {},
   "cell_type": "markdown",
   "source": "> or operator: at least",
   "id": "c1914a6c7084df52"
  },
  {
   "metadata": {
    "ExecuteTime": {
     "end_time": "2025-07-15T18:18:43.567603Z",
     "start_time": "2025-07-15T18:18:43.562170Z"
    }
   },
   "cell_type": "code",
   "source": [
    "high_income = False\n",
    "good_credit = True\n",
    "student = True\n",
    "\n",
    "if not student :\n",
    "    print(\"Eligible\")\n",
    "else:\n",
    "    print(\"Not eligible\")"
   ],
   "id": "ab11e40ed363526e",
   "outputs": [
    {
     "name": "stdout",
     "output_type": "stream",
     "text": [
      "Not eligible\n"
     ]
    }
   ],
   "execution_count": 67
  },
  {
   "metadata": {
    "ExecuteTime": {
     "end_time": "2025-07-15T18:18:43.637681Z",
     "start_time": "2025-07-15T18:18:43.631917Z"
    }
   },
   "cell_type": "code",
   "source": [
    "high_income = False\n",
    "good_credit = True\n",
    "student = False\n",
    "\n",
    "if not student :\n",
    "    print(\"Eligible\")\n",
    "else:\n",
    "    print(\"Not eligible\")"
   ],
   "id": "b24d3ffecc156a62",
   "outputs": [
    {
     "name": "stdout",
     "output_type": "stream",
     "text": [
      "Eligible\n"
     ]
    }
   ],
   "execution_count": 68
  },
  {
   "metadata": {
    "ExecuteTime": {
     "end_time": "2025-07-15T18:18:43.698124Z",
     "start_time": "2025-07-15T18:18:43.692620Z"
    }
   },
   "cell_type": "code",
   "source": [
    "high_income = False\n",
    "good_credit = True\n",
    "student = False\n",
    "\n",
    "if (high_income or good_credit) and not student:\n",
    "    print(\"Eligible\")\n",
    "else:\n",
    "    print(\"Not eligible\")"
   ],
   "id": "b7814953fb8d59da",
   "outputs": [
    {
     "name": "stdout",
     "output_type": "stream",
     "text": [
      "Eligible\n"
     ]
    }
   ],
   "execution_count": 69
  },
  {
   "metadata": {},
   "cell_type": "markdown",
   "source": "> `not` operator: does the `INVERSE`",
   "id": "dd76589d20a2cf1"
  },
  {
   "metadata": {},
   "cell_type": "markdown",
   "source": "### Short-Circuit Evaluation",
   "id": "cdb8f304202bcd44"
  },
  {
   "metadata": {},
   "cell_type": "markdown",
   "source": [
    "#### Boolean Short-Circuit Evaluation\n",
    "\n",
    "Boolean operators (`and`, `or`) are **short-circuit** - they stop evaluating as soon as the result is determined:\n",
    "\n",
    "- `and`: If first value is `False`, stops immediately (returns `False`)\n",
    "- `or`: If first value is `True`, stops immediately (returns `True`)\n",
    "\n",
    "**Examples:**\n",
    "```python\n",
    "False and expensive_function()  # expensive_function() never runs\n",
    "True or expensive_function()    # expensive_function() never runs"
   ],
   "id": "cb179447516b911f"
  },
  {
   "metadata": {
    "ExecuteTime": {
     "end_time": "2025-07-15T18:18:43.782700Z",
     "start_time": "2025-07-15T18:18:43.774702Z"
    }
   },
   "cell_type": "code",
   "source": [
    "high_income = False\n",
    "good_credit = True\n",
    "student = True\n",
    "\n",
    "if high_income and good_credit and not student:\n",
    "    print(\"Eligible\")\n",
    "else:\n",
    "    print(\"Not eligible\")"
   ],
   "id": "d017094528c04c51",
   "outputs": [
    {
     "name": "stdout",
     "output_type": "stream",
     "text": [
      "Not eligible\n"
     ]
    }
   ],
   "execution_count": 70
  },
  {
   "metadata": {},
   "cell_type": "markdown",
   "source": [
    "#### Short-Circuit in Action\n",
    "\n",
    "In the loan eligibility example:\n",
    "1. `high_income` evaluates to `False`\n",
    "2. Since we're using `and`, Python **stops immediately**\n",
    "3. `good_credit` and `not student` are never checked\n",
    "4. Result: `False` → \"Not eligible\"\n",
    "\n",
    "**Key insight:** Even though `good_credit` is `True`, it's never evaluated because the first `False` in an `and` chain determines the outcome.\n",
    "\n",
    "This saves computation and prevents unnecessary function calls or database lookups."
   ],
   "id": "58fc75a147ac0d7e"
  },
  {
   "metadata": {
    "ExecuteTime": {
     "end_time": "2025-07-15T18:18:43.873908Z",
     "start_time": "2025-07-15T18:18:43.869179Z"
    }
   },
   "cell_type": "code",
   "source": [
    "high_income = False\n",
    "good_credit = True\n",
    "student = True\n",
    "\n",
    "if high_income or good_credit or not student:\n",
    "    print(\"Eligible\")"
   ],
   "id": "abefc5b904e77c93",
   "outputs": [
    {
     "name": "stdout",
     "output_type": "stream",
     "text": [
      "Eligible\n"
     ]
    }
   ],
   "execution_count": 71
  },
  {
   "metadata": {},
   "cell_type": "markdown",
   "source": [
    "####\n",
    "\n",
    "In the modified loan eligibility example:\n",
    "1. `high_income` evaluates to `False`\n",
    "2. `good_credit` evaluates to `True`\n",
    "3. Since we found a `True` with `or`, Python **stops immediately**\n",
    "4. `not student` is never checked\n",
    "5. Result: `True` → \"Eligible\"\n",
    "\n",
    "**Key insight:** With `or`, Python stops at the first `True` value. Even though `not student` would be `False`, it's never evaluated because `good_credit` already made the entire expression `True`.\n",
    "\n",
    "This makes `or` chains efficient - no need to check remaining conditions once you find a `True`."
   ],
   "id": "3f8e95c7a8a3e817"
  },
  {
   "metadata": {},
   "cell_type": "markdown",
   "source": "### Chaining Comparison Operators",
   "id": "55dd2f96d0579a18"
  },
  {
   "metadata": {
    "ExecuteTime": {
     "end_time": "2025-07-15T18:18:43.935050Z",
     "start_time": "2025-07-15T18:18:43.931331Z"
    }
   },
   "cell_type": "code",
   "source": [
    "# age should be between 18 and 65\n",
    "\n",
    "age = 22\n",
    "if age >= 18 and age < 65:\n",
    "    print(\"Eligible\")"
   ],
   "id": "fa717c40ae613555",
   "outputs": [
    {
     "name": "stdout",
     "output_type": "stream",
     "text": [
      "Eligible\n"
     ]
    }
   ],
   "execution_count": 72
  },
  {
   "metadata": {
    "ExecuteTime": {
     "end_time": "2025-07-15T18:18:44.015717Z",
     "start_time": "2025-07-15T18:18:44.009561Z"
    }
   },
   "cell_type": "code",
   "source": [
    "# simplified chained comparison\n",
    "if 18 <= age < 65: # cleaner and easier to read\n",
    "    print(\"Eligible\")"
   ],
   "id": "feafdce9760db441",
   "outputs": [
    {
     "name": "stdout",
     "output_type": "stream",
     "text": [
      "Eligible\n"
     ]
    }
   ],
   "execution_count": 73
  },
  {
   "metadata": {
    "ExecuteTime": {
     "end_time": "2025-07-15T18:18:44.100109Z",
     "start_time": "2025-07-15T18:18:44.096211Z"
    }
   },
   "cell_type": "code",
   "source": [
    "# QUIZ: What will print?\n",
    "if 10 == \"10\": # FALSE\n",
    "    print(\"a\")\n",
    "elif \"bag\" > \"apple\" and \"bag\" > \"cat\": # FALSE\n",
    "    print(\"b\")\n",
    "else: # TRUE so 'c' prints\n",
    "    print(\"c\")"
   ],
   "id": "3483c2849fac2a06",
   "outputs": [
    {
     "name": "stdout",
     "output_type": "stream",
     "text": [
      "c\n"
     ]
    }
   ],
   "execution_count": 74
  },
  {
   "metadata": {},
   "cell_type": "markdown",
   "source": [
    "### For Loops\n",
    "> repeat a task `x` number of times"
   ],
   "id": "4da043250d43d60d"
  },
  {
   "metadata": {
    "ExecuteTime": {
     "end_time": "2025-07-15T18:18:44.172878Z",
     "start_time": "2025-07-15T18:18:44.168290Z"
    }
   },
   "cell_type": "code",
   "source": [
    "# this method is not very efficient\n",
    "print(\"Sending a message\")\n",
    "print(\"Sending a message\")\n",
    "print(\"Sending a message\")\n",
    "print(\"Sending a message\")\n",
    "print(\"Sending a message\")"
   ],
   "id": "acea1938b0b8f556",
   "outputs": [
    {
     "name": "stdout",
     "output_type": "stream",
     "text": [
      "Sending a message\n",
      "Sending a message\n",
      "Sending a message\n",
      "Sending a message\n",
      "Sending a message\n"
     ]
    }
   ],
   "execution_count": 75
  },
  {
   "metadata": {
    "ExecuteTime": {
     "end_time": "2025-07-15T18:18:44.253980Z",
     "start_time": "2025-07-15T18:18:44.250209Z"
    }
   },
   "cell_type": "code",
   "source": [
    "# let's use a loop\n",
    "\n",
    "for number in range(3):\n",
    "    print(\"Attempt\")"
   ],
   "id": "d983b8aae9fc6165",
   "outputs": [
    {
     "name": "stdout",
     "output_type": "stream",
     "text": [
      "Attempt\n",
      "Attempt\n",
      "Attempt\n"
     ]
    }
   ],
   "execution_count": 76
  },
  {
   "metadata": {},
   "cell_type": "markdown",
   "source": "`number` is a variable of type `integer`",
   "id": "436c7b4e0580d262"
  },
  {
   "metadata": {
    "ExecuteTime": {
     "end_time": "2025-07-15T18:18:44.329335Z",
     "start_time": "2025-07-15T18:18:44.323548Z"
    }
   },
   "cell_type": "code",
   "source": [
    "\"\"\"\n",
    "This for loop is executed 3 times\n",
    "In each iteration, number will have a different value\n",
    "\"\"\"\n",
    "for number in range(3):\n",
    "    print(\"Attempt\", number)"
   ],
   "id": "485478ea5b1a4814",
   "outputs": [
    {
     "name": "stdout",
     "output_type": "stream",
     "text": [
      "Attempt 0\n",
      "Attempt 1\n",
      "Attempt 2\n"
     ]
    }
   ],
   "execution_count": 77
  },
  {
   "metadata": {
    "ExecuteTime": {
     "end_time": "2025-07-15T18:18:44.409815Z",
     "start_time": "2025-07-15T18:18:44.404566Z"
    }
   },
   "cell_type": "code",
   "source": [
    "\"\"\"\n",
    "Let's refactor to make this more user-friendly by adding the + 1\n",
    "\"\"\"\n",
    "for number in range(3):\n",
    "    print(\"Attempt\", number + 1)"
   ],
   "id": "7d0548d9c48089aa",
   "outputs": [
    {
     "name": "stdout",
     "output_type": "stream",
     "text": [
      "Attempt 1\n",
      "Attempt 2\n",
      "Attempt 3\n"
     ]
    }
   ],
   "execution_count": 78
  },
  {
   "metadata": {
    "ExecuteTime": {
     "end_time": "2025-07-15T18:18:44.569890Z",
     "start_time": "2025-07-15T18:18:44.563128Z"
    }
   },
   "cell_type": "code",
   "source": [
    "\"\"\"\n",
    "Prints 3 numbered attempts with increasing dots.\n",
    "\"\"\"\n",
    "for number in range(3):\n",
    "   print(\"Attempt\", number + 1, (number + 1) * \".\")"
   ],
   "id": "369d46d037db46ec",
   "outputs": [
    {
     "name": "stdout",
     "output_type": "stream",
     "text": [
      "Attempt 1 .\n",
      "Attempt 2 ..\n",
      "Attempt 3 ...\n"
     ]
    }
   ],
   "execution_count": 79
  },
  {
   "metadata": {
    "ExecuteTime": {
     "end_time": "2025-07-15T18:18:44.687056Z",
     "start_time": "2025-07-15T18:18:44.681429Z"
    }
   },
   "cell_type": "code",
   "source": [
    "\"\"\"\n",
    "Using range(1, 4) starts from 1 and stops before 4 (gives us 1, 2, 3).\n",
    "This eliminates the need for number + 1 calculations in the print statement.\n",
    "\"\"\"\n",
    "for number in range(1, 4):\n",
    "  print(\"Attempt\", number, number * \".\")"
   ],
   "id": "81873ede8f2b5ed5",
   "outputs": [
    {
     "name": "stdout",
     "output_type": "stream",
     "text": [
      "Attempt 1 .\n",
      "Attempt 2 ..\n",
      "Attempt 3 ...\n"
     ]
    }
   ],
   "execution_count": 80
  },
  {
   "metadata": {
    "ExecuteTime": {
     "end_time": "2025-07-15T18:18:44.792091Z",
     "start_time": "2025-07-15T18:18:44.786882Z"
    }
   },
   "cell_type": "code",
   "source": [
    "\"\"\"\n",
    "Demonstrates range() with step parameter: range(start, stop, step).\n",
    "Prints odd numbers 1-9 with corresponding dot patterns.\n",
    "\"\"\"\n",
    "for number in range(1, 10, 2):\n",
    "    print(\"Attempt\", number, number * \".\")"
   ],
   "id": "e030a2fb0b7486ce",
   "outputs": [
    {
     "name": "stdout",
     "output_type": "stream",
     "text": [
      "Attempt 1 .\n",
      "Attempt 3 ...\n",
      "Attempt 5 .....\n",
      "Attempt 7 .......\n",
      "Attempt 9 .........\n"
     ]
    }
   ],
   "execution_count": 81
  },
  {
   "metadata": {},
   "cell_type": "markdown",
   "source": "### For...Else",
   "id": "f35ae46f43ba5cb7"
  },
  {
   "metadata": {
    "ExecuteTime": {
     "end_time": "2025-07-15T18:18:44.903121Z",
     "start_time": "2025-07-15T18:18:44.897351Z"
    }
   },
   "cell_type": "code",
   "source": [
    "# for statement\n",
    "successful = True\n",
    "for number in range(3):\n",
    "    print(\"Attempt\")\n",
    "    if successful:\n",
    "        print(\"Successful\")\n",
    "        break # jump out of the loop"
   ],
   "id": "5833367f8aaaac04",
   "outputs": [
    {
     "name": "stdout",
     "output_type": "stream",
     "text": [
      "Attempt\n",
      "Successful\n"
     ]
    }
   ],
   "execution_count": 82
  },
  {
   "metadata": {
    "ExecuteTime": {
     "end_time": "2025-07-15T18:18:45.008940Z",
     "start_time": "2025-07-15T18:18:45.003182Z"
    }
   },
   "cell_type": "code",
   "source": [
    "# for else statement\n",
    "successful = False\n",
    "for number in range(3):\n",
    "    print(\"Attempt\")\n",
    "    if successful:\n",
    "        print(\"Successful\")\n",
    "        break # jump out of the loop\n",
    "else: # if we don't break out of the loop\n",
    "    print(\"Attempted 3 times and failed\")"
   ],
   "id": "22279295abd9acf2",
   "outputs": [
    {
     "name": "stdout",
     "output_type": "stream",
     "text": [
      "Attempt\n",
      "Attempt\n",
      "Attempt\n",
      "Attempted 3 times and failed\n"
     ]
    }
   ],
   "execution_count": 83
  },
  {
   "metadata": {},
   "cell_type": "markdown",
   "source": "### Nested Loops",
   "id": "b2c884b8dd219298"
  },
  {
   "metadata": {
    "ExecuteTime": {
     "end_time": "2025-07-15T18:18:45.139052Z",
     "start_time": "2025-07-15T18:18:45.133780Z"
    }
   },
   "cell_type": "code",
   "source": [
    "\"\"\"\n",
    "Demonstrates nested loops generating all coordinate pairs.\n",
    "Outer loop (x): 0-4, Inner loop (y): 0-2. Prints 15 combinations.\n",
    "\"\"\"\n",
    "for x in range(5): # outer loop\n",
    "    for y in range(3): # inner loop\n",
    "        print(f\"({x}, {y})\")"
   ],
   "id": "a608c3216f9868ca",
   "outputs": [
    {
     "name": "stdout",
     "output_type": "stream",
     "text": [
      "(0, 0)\n",
      "(0, 1)\n",
      "(0, 2)\n",
      "(1, 0)\n",
      "(1, 1)\n",
      "(1, 2)\n",
      "(2, 0)\n",
      "(2, 1)\n",
      "(2, 2)\n",
      "(3, 0)\n",
      "(3, 1)\n",
      "(3, 2)\n",
      "(4, 0)\n",
      "(4, 1)\n",
      "(4, 2)\n"
     ]
    }
   ],
   "execution_count": 84
  },
  {
   "metadata": {},
   "cell_type": "markdown",
   "source": "### Iterables",
   "id": "7482f1754071a85e"
  },
  {
   "metadata": {
    "ExecuteTime": {
     "end_time": "2025-07-15T18:18:45.268847Z",
     "start_time": "2025-07-15T18:18:45.263818Z"
    }
   },
   "cell_type": "code",
   "source": [
    "print(type(5)) # primitive type\n",
    "print(type(range(5))) # complex type\n"
   ],
   "id": "cd975f531101cb93",
   "outputs": [
    {
     "name": "stdout",
     "output_type": "stream",
     "text": [
      "<class 'int'>\n",
      "<class 'range'>\n"
     ]
    }
   ],
   "execution_count": 85
  },
  {
   "metadata": {
    "ExecuteTime": {
     "end_time": "2025-07-15T18:18:45.379463Z",
     "start_time": "2025-07-15T18:18:45.373193Z"
    }
   },
   "cell_type": "code",
   "source": [
    "\"\"\"\n",
    "Iterable\n",
    "\n",
    "For each iteration, x will have a different value\n",
    "\n",
    "In this case, for each iteration we get one character and print it =\"Python\"\n",
    "\"\"\"\n",
    "\n",
    "for x in \"Python\":\n",
    "    print(x)"
   ],
   "id": "129ca50807a25992",
   "outputs": [
    {
     "name": "stdout",
     "output_type": "stream",
     "text": [
      "P\n",
      "y\n",
      "t\n",
      "h\n",
      "o\n",
      "n\n"
     ]
    }
   ],
   "execution_count": 86
  },
  {
   "metadata": {
    "ExecuteTime": {
     "end_time": "2025-07-15T18:18:45.500438Z",
     "start_time": "2025-07-15T18:18:45.491113Z"
    }
   },
   "cell_type": "code",
   "source": [
    "\"\"\"\n",
    "Let's try the same thing with numbers\n",
    "\"\"\"\n",
    "\n",
    "for x in [1, 2, 3, 4]:\n",
    "    print(x)"
   ],
   "id": "294275584d7a77fc",
   "outputs": [
    {
     "name": "stdout",
     "output_type": "stream",
     "text": [
      "1\n",
      "2\n",
      "3\n",
      "4\n"
     ]
    }
   ],
   "execution_count": 87
  },
  {
   "metadata": {},
   "cell_type": "markdown",
   "source": "### While Loops",
   "id": "85d1f15d402de5e8"
  },
  {
   "metadata": {
    "ExecuteTime": {
     "end_time": "2025-07-15T18:18:45.609683Z",
     "start_time": "2025-07-15T18:18:45.605292Z"
    }
   },
   "cell_type": "code",
   "source": [
    "\"\"\"\n",
    "While loops repeats something as long as a condition is True\n",
    "\"\"\"\n",
    "\n",
    "number = 100\n",
    "while number > 0:\n",
    "    print(number)\n",
    "    number = number // 2"
   ],
   "id": "337f9046a7fb7f3b",
   "outputs": [
    {
     "name": "stdout",
     "output_type": "stream",
     "text": [
      "100\n",
      "50\n",
      "25\n",
      "12\n",
      "6\n",
      "3\n",
      "1\n"
     ]
    }
   ],
   "execution_count": 88
  },
  {
   "metadata": {
    "ExecuteTime": {
     "end_time": "2025-07-15T18:18:45.722908Z",
     "start_time": "2025-07-15T18:18:45.718426Z"
    }
   },
   "cell_type": "code",
   "source": [
    "# use augmented assignment operator to shorten the code\n",
    "number = 100\n",
    "while number > 0:\n",
    "    print(number)\n",
    "    number //= 2 # int div + assign opp"
   ],
   "id": "ca1f4132bfdf0f97",
   "outputs": [
    {
     "name": "stdout",
     "output_type": "stream",
     "text": [
      "100\n",
      "50\n",
      "25\n",
      "12\n",
      "6\n",
      "3\n",
      "1\n"
     ]
    }
   ],
   "execution_count": 89
  },
  {
   "metadata": {
    "ExecuteTime": {
     "end_time": "2025-07-15T18:23:33.735431Z",
     "start_time": "2025-07-15T18:23:20.774992Z"
    }
   },
   "cell_type": "code",
   "source": [
    "\"\"\"\n",
    "getting a while loop to terminate\n",
    "execute as long as command does not equal to quit\n",
    "continuously get input from the user otherwise\n",
    "\"\"\"\n",
    "command = \"\"\n",
    "while command != \"quit\":\n",
    "    command = input(\">\")\n",
    "    print(\"ECHO\", command) # echo back what user entered"
   ],
   "id": "f8f116251f6a4711",
   "outputs": [
    {
     "name": "stdout",
     "output_type": "stream",
     "text": [
      "ECHO yam\n",
      "ECHO ha\n",
      "ECHO quit\n"
     ]
    }
   ],
   "execution_count": 91
  },
  {
   "metadata": {
    "ExecuteTime": {
     "end_time": "2025-07-15T18:29:43.980410Z",
     "start_time": "2025-07-15T18:29:41.263855Z"
    }
   },
   "cell_type": "code",
   "source": [
    "\"\"\"\n",
    "in the previous, if you typed QUIT, it would not work\n",
    "upper and lowercase are different characters\n",
    "\"\"\"\n",
    "\n",
    "command = \"\"\n",
    "while command.lower() != \"quit\": # convert user's input\n",
    "    command = input(\">\")\n",
    "    print(\"ECHO\", command) # echo back what user entered"
   ],
   "id": "b917d0ee3a8c5976",
   "outputs": [
    {
     "name": "stdout",
     "output_type": "stream",
     "text": [
      "ECHO quit\n"
     ]
    }
   ],
   "execution_count": 94
  },
  {
   "metadata": {},
   "cell_type": "markdown",
   "source": "### Infinite Loops",
   "id": "894bc5d9e7681fc8"
  },
  {
   "metadata": {
    "ExecuteTime": {
     "end_time": "2025-07-15T18:32:59.195077Z",
     "start_time": "2025-07-15T18:32:46.086153Z"
    }
   },
   "cell_type": "code",
   "source": [
    "\"\"\"\n",
    "An infinite loop is a loop that runs forever\n",
    "\n",
    "This program does functionally  same thing as the previous, but this time with an infinite loop\n",
    "\n",
    "Be aware of infinite looks, because they run forever, you must always have a way to jump out of this.\n",
    "\n",
    "Your computer could run out of memory and crash\n",
    "\"\"\"\n",
    "while True:\n",
    "    command = input(\">\")\n",
    "    print(\"ECHO\", command)\n",
    "    if command.lower() == \"quit\":\n",
    "        break\n"
   ],
   "id": "9b41a613cf69a735",
   "outputs": [
    {
     "name": "stdout",
     "output_type": "stream",
     "text": [
      "ECHO hello\n",
      "ECHO goodbye\n",
      "ECHO quit\n"
     ]
    }
   ],
   "execution_count": 95
  },
  {
   "metadata": {},
   "cell_type": "markdown",
   "source": [
    "### Exercise:\n",
    "> Write a program to display the even numbers between 1 to 10\n",
    "> Then end with the statement \"We have 4 even numbers\""
   ],
   "id": "dcb155d0ffaab4b"
  },
  {
   "metadata": {
    "ExecuteTime": {
     "end_time": "2025-07-15T18:41:55.260847Z",
     "start_time": "2025-07-15T18:41:55.238362Z"
    }
   },
   "cell_type": "code",
   "source": [
    "for number in range(1, 10):\n",
    "    if number % 2 == 0:\n",
    "        print(number)\n",
    "print(\"We have 4 even numbers\")"
   ],
   "id": "cae5a7e447f04ed7",
   "outputs": [
    {
     "name": "stdout",
     "output_type": "stream",
     "text": [
      "2\n",
      "4\n",
      "6\n",
      "8\n",
      "We have 4 even numbers\n"
     ]
    }
   ],
   "execution_count": 101
  },
  {
   "metadata": {
    "ExecuteTime": {
     "end_time": "2025-07-15T18:45:19.542521Z",
     "start_time": "2025-07-15T18:45:19.535310Z"
    }
   },
   "cell_type": "code",
   "source": [
    "\"\"\"\n",
    "This is the more Pythonic solution.\n",
    "\n",
    "Instead of hard coding 4 in the final print statement, we create a variable 'count' that will increment for each even number in the range.\n",
    "\n",
    "We then use an f-string that will print the number of even numbers.\n",
    "\n",
    "This is more dynamic, especially if we change the numbers in the range later.\n",
    "\"\"\"\n",
    "count = 0\n",
    "for number in range(1, 10):\n",
    "    if number % 2 == 0:\n",
    "        print(number)\n",
    "        count += 1\n",
    "print(f\"We have {count} even numbers\")"
   ],
   "id": "17efeb20178a4fac",
   "outputs": [
    {
     "name": "stdout",
     "output_type": "stream",
     "text": [
      "2\n",
      "4\n",
      "6\n",
      "8\n",
      "We have 4 even numbers\n"
     ]
    }
   ],
   "execution_count": 106
  },
  {
   "metadata": {},
   "cell_type": "markdown",
   "source": [
    "### How to Write Your Own Functions\n",
    "> functions are chunks of reusable code"
   ],
   "id": "517a42b537e76619"
  },
  {
   "metadata": {
    "ExecuteTime": {
     "end_time": "2025-07-15T18:51:54.591328Z",
     "start_time": "2025-07-15T18:51:54.575952Z"
    }
   },
   "cell_type": "code",
   "source": [
    "def greet():\n",
    "    print(\"Hi there\")\n",
    "    print(\"Welcome aboard\")\n",
    "\n",
    "\n",
    "greet() ## call function 2 line breaks after function (Pep8)"
   ],
   "id": "be17ec89aad2cd22",
   "outputs": [
    {
     "name": "stdout",
     "output_type": "stream",
     "text": [
      "Hi there\n",
      "Welcome aboard\n"
     ]
    }
   ],
   "execution_count": 107
  },
  {
   "metadata": {},
   "cell_type": "markdown",
   "source": "#### Arguments",
   "id": "a514c9ff39c7fb0a"
  },
  {
   "metadata": {
    "ExecuteTime": {
     "end_time": "2025-07-15T18:54:22.978106Z",
     "start_time": "2025-07-15T18:54:22.971967Z"
    }
   },
   "cell_type": "code",
   "source": [
    "# function with 2 arguments\n",
    "\"\"\"\n",
    "explain parameter vs argument here\n",
    "\"\"\"\n",
    "def greet(first_name, last_name): # parameters\n",
    "    print(f\"Hi {first_name} {last_name}!\")\n",
    "    print(\"Welcome aboard\")\n",
    "\n",
    "# call function 2-line breaks after function (Pep8\n",
    "greet(\"Nyambi\", \"Bakolong\") # arguments"
   ],
   "id": "b215263f9e4764b2",
   "outputs": [
    {
     "name": "stdout",
     "output_type": "stream",
     "text": [
      "Hi Nyambi Bakolong!\n",
      "Welcome aboard\n"
     ]
    }
   ],
   "execution_count": 110
  },
  {
   "metadata": {
    "ExecuteTime": {
     "end_time": "2025-07-15T18:57:01.588149Z",
     "start_time": "2025-07-15T18:57:01.575052Z"
    }
   },
   "cell_type": "code",
   "source": [
    "# Now we can reuse this function and call it with different arguments\n",
    "def greet(first_name, last_name): # parameters\n",
    "    print(f\"Hi {first_name} {last_name}!\")\n",
    "    print(\"Welcome aboard\")\n",
    "\n",
    "# call function 2-line breaks after function (Pep8\n",
    "greet(\"Nyambi\", \"Bakolong\")\n",
    "greet(\"Xoria\", \"Xeribo\")\n",
    "greet(\"XhaXha\", \"Xeribo\")\n",
    "greet(\"Malik\", \"Samba\")\n",
    "\n"
   ],
   "id": "872b4a4347055557",
   "outputs": [
    {
     "name": "stdout",
     "output_type": "stream",
     "text": [
      "Hi Nyambi Bakolong!\n",
      "Welcome aboard\n",
      "Hi Xoria Xeribo!\n",
      "Welcome aboard\n",
      "Hi XhaXha Xeribo!\n",
      "Welcome aboard\n",
      "Hi Malik Samba!\n",
      "Welcome aboard\n"
     ]
    }
   ],
   "execution_count": 111
  },
  {
   "metadata": {},
   "cell_type": "markdown",
   "source": [
    "### Types of Functions\n",
    "* Functions that perform a task\n",
    "* Functions that calculate and return a value"
   ],
   "id": "550707d14e10ed2"
  },
  {
   "metadata": {
    "ExecuteTime": {
     "end_time": "2025-07-15T18:59:08.771807Z",
     "start_time": "2025-07-15T18:59:08.751583Z"
    }
   },
   "cell_type": "code",
   "source": [
    "# calculate and return a value\n",
    "round(1.9)"
   ],
   "id": "f108c1a6d8d5e60c",
   "outputs": [
    {
     "data": {
      "text/plain": [
       "2"
      ]
     },
     "execution_count": 113,
     "metadata": {},
     "output_type": "execute_result"
    }
   ],
   "execution_count": 113
  },
  {
   "metadata": {
    "ExecuteTime": {
     "end_time": "2025-07-15T19:02:10.268342Z",
     "start_time": "2025-07-15T19:02:10.244202Z"
    }
   },
   "cell_type": "code",
   "source": [
    "# Instead of printing this function, let's simply return\n",
    "# explain why this is more useful in cases than just printing (reuse)\n",
    "def get_greeting(name):\n",
    "    return f\"Hi {name}\"\n",
    "\n",
    "message = get_greeting(\"Mosh\")"
   ],
   "id": "aea74ee9dd13a317",
   "outputs": [],
   "execution_count": 114
  },
  {
   "metadata": {
    "ExecuteTime": {
     "end_time": "2025-07-15T19:05:32.972581Z",
     "start_time": "2025-07-15T19:05:32.950999Z"
    }
   },
   "cell_type": "code",
   "source": [
    "\"\"\"\n",
    "All functions return 'none' by default unless you specifically return a value.\n",
    "\"\"\"\n",
    "def greet(name):\n",
    "    print(f\"Hi {name}\")\n",
    "\n",
    "print(greet(\"Nyambi\"))"
   ],
   "id": "4f4d2cd172633624",
   "outputs": [
    {
     "name": "stdout",
     "output_type": "stream",
     "text": [
      "Hi Nyambi\n",
      "None\n"
     ]
    }
   ],
   "execution_count": 116
  },
  {
   "metadata": {
    "ExecuteTime": {
     "end_time": "2025-07-15T19:05:48.450607Z",
     "start_time": "2025-07-15T19:05:48.436264Z"
    }
   },
   "cell_type": "code",
   "source": [
    "\"\"\"\n",
    "All functions return 'none' by default unless you specifically return a value.\n",
    "\"\"\"\n",
    "def greet(name):\n",
    "    # print(f\"Hi {name}\")\n",
    "    return \"...\" # none will no longer be returned\n",
    "print(greet(\"Nyambi\"))"
   ],
   "id": "286f30d4b3689be9",
   "outputs": [
    {
     "name": "stdout",
     "output_type": "stream",
     "text": [
      "...\n"
     ]
    }
   ],
   "execution_count": 117
  },
  {
   "metadata": {},
   "cell_type": "markdown",
   "source": "### Keyword Arguments",
   "id": "1d18e24cddbee261"
  },
  {
   "metadata": {
    "ExecuteTime": {
     "end_time": "2025-07-15T19:07:30.919612Z",
     "start_time": "2025-07-15T19:07:30.914660Z"
    }
   },
   "cell_type": "code",
   "source": [
    "def increment(number, by):\n",
    "    return number + by\n",
    "result = increment(2,1) # increment the number 2 by 1\n",
    "print(result)"
   ],
   "id": "fd2ad0d4b1b874c8",
   "outputs": [
    {
     "name": "stdout",
     "output_type": "stream",
     "text": [
      "3\n"
     ]
    }
   ],
   "execution_count": 119
  },
  {
   "metadata": {
    "ExecuteTime": {
     "end_time": "2025-07-15T19:08:08.738195Z",
     "start_time": "2025-07-15T19:08:08.722968Z"
    }
   },
   "cell_type": "code",
   "source": [
    "# simplify\n",
    "def increment(number, by):\n",
    "    return number + by\n",
    "\n",
    "print(increment(2,1))"
   ],
   "id": "3656cf1e066f8fae",
   "outputs": [
    {
     "name": "stdout",
     "output_type": "stream",
     "text": [
      "3\n"
     ]
    }
   ],
   "execution_count": 121
  },
  {
   "metadata": {
    "ExecuteTime": {
     "end_time": "2025-07-15T19:08:46.306640Z",
     "start_time": "2025-07-15T19:08:46.300689Z"
    }
   },
   "cell_type": "code",
   "source": [
    "# make the code more readable\n",
    "# keyword argument\n",
    "def increment(number, by):\n",
    "    return number + by\n",
    "\n",
    "print(increment(2, by=1)) # by=1 is a keyword argument\n"
   ],
   "id": "b4aacfc750385121",
   "outputs": [
    {
     "name": "stdout",
     "output_type": "stream",
     "text": [
      "3\n"
     ]
    }
   ],
   "execution_count": 122
  },
  {
   "metadata": {},
   "cell_type": "markdown",
   "source": "### Default Arguments",
   "id": "b5d75be1ec5ae1f1"
  },
  {
   "metadata": {
    "ExecuteTime": {
     "end_time": "2025-07-15T19:10:13.273442Z",
     "start_time": "2025-07-15T19:10:13.268273Z"
    }
   },
   "cell_type": "code",
   "source": [
    "def increment(number, by=1): # by = 1 is a default argument\n",
    "    return number + by\n",
    "\n",
    "print(increment(2))"
   ],
   "id": "f86021b084aca235",
   "outputs": [
    {
     "name": "stdout",
     "output_type": "stream",
     "text": [
      "7\n"
     ]
    }
   ],
   "execution_count": 124
  },
  {
   "metadata": {
    "ExecuteTime": {
     "end_time": "2025-07-15T19:10:40.117287Z",
     "start_time": "2025-07-15T19:10:40.109621Z"
    }
   },
   "cell_type": "code",
   "source": [
    "# overwriting the default\n",
    "def increment(number, by=1): # by = 1 is a default argument\n",
    "    return number + by\n",
    "\n",
    "print(increment(2, 5))"
   ],
   "id": "e58fb4b3b7b1c0e",
   "outputs": [
    {
     "name": "stdout",
     "output_type": "stream",
     "text": [
      "7\n"
     ]
    }
   ],
   "execution_count": 125
  },
  {
   "metadata": {},
   "cell_type": "markdown",
   "source": "### Variable Number of Arguments",
   "id": "6daf112b9a6a92f9"
  },
  {
   "metadata": {
    "ExecuteTime": {
     "end_time": "2025-07-15T19:12:13.311712Z",
     "start_time": "2025-07-15T19:12:13.285449Z"
    }
   },
   "cell_type": "code",
   "source": [
    "def multiply(*numbers):\n",
    "    print(numbers)\n",
    "\n",
    "multiply(2,3,4,5)"
   ],
   "id": "6a874e0cd43ddf27",
   "outputs": [
    {
     "name": "stdout",
     "output_type": "stream",
     "text": [
      "(2, 3, 4, 5)\n"
     ]
    }
   ],
   "execution_count": 126
  },
  {
   "metadata": {
    "ExecuteTime": {
     "end_time": "2025-07-15T19:15:22.095202Z",
     "start_time": "2025-07-15T19:15:22.086794Z"
    }
   },
   "cell_type": "code",
   "source": [
    "def multiply(*numbers):\n",
    "    total = 1\n",
    "    for number in numbers:\n",
    "        total *= number\n",
    "    return total\n",
    "\n",
    "# print the product of these numbers\n",
    "print(multiply(2,3,4,5))"
   ],
   "id": "95153c2d49bc1005",
   "outputs": [
    {
     "data": {
      "text/plain": [
       "120"
      ]
     },
     "execution_count": 128,
     "metadata": {},
     "output_type": "execute_result"
    }
   ],
   "execution_count": 128
  }
 ],
 "metadata": {
  "kernelspec": {
   "display_name": "Python 3",
   "language": "python",
   "name": "python3"
  },
  "language_info": {
   "codemirror_mode": {
    "name": "ipython",
    "version": 2
   },
   "file_extension": ".py",
   "mimetype": "text/x-python",
   "name": "python",
   "nbconvert_exporter": "python",
   "pygments_lexer": "ipython2",
   "version": "2.7.6"
  }
 },
 "nbformat": 4,
 "nbformat_minor": 5
}
