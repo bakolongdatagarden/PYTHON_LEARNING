{
 "cells": [
  {
   "metadata": {},
   "cell_type": "markdown",
   "source": "# Booleans & Conditionals",
   "id": "710c783dbc5e0f93"
  },
  {
   "metadata": {},
   "cell_type": "markdown",
   "source": [
    "## Booleans\n",
    "> Python has a type of variable called bool.\n",
    "> It has two possible values: `True` and `False`."
   ],
   "id": "c8ec47a6e038b989"
  },
  {
   "metadata": {
    "ExecuteTime": {
     "end_time": "2025-07-26T17:20:04.865463Z",
     "start_time": "2025-07-26T17:20:04.789144Z"
    }
   },
   "cell_type": "code",
   "source": [
    "x = True\n",
    "print(x)\n",
    "print(type(x))"
   ],
   "id": "605b370183deddc5",
   "outputs": [
    {
     "name": "stdout",
     "output_type": "stream",
     "text": [
      "True\n",
      "<class 'bool'>\n"
     ]
    }
   ],
   "execution_count": 25
  },
  {
   "metadata": {},
   "cell_type": "markdown",
   "source": [
    "> Rather than putting `True` or `False` directly in our code, we usually get boolean values from boolean operators.\n",
    "> These are operators that answer yes/no questions."
   ],
   "id": "b4d88f4df727a603"
  },
  {
   "metadata": {
    "ExecuteTime": {
     "end_time": "2025-07-26T17:20:04.508393200Z",
     "start_time": "2025-07-25T19:19:33.345825Z"
    }
   },
   "cell_type": "code",
   "source": [
    "# COMPARISON OPERATORS\n",
    "a = 9\n",
    "b = 15\n",
    "\n",
    "print(a == b) # equal\n",
    "print(a != b) # not equal\n",
    "print(a < b) # less than\n",
    "print(a > b) # greater than\n",
    "print(a <= b) # less than or equal to\n",
    "print(a >= b) # greater than or equal to\n"
   ],
   "id": "a4b678ab1d3c2d1b",
   "outputs": [
    {
     "name": "stdout",
     "output_type": "stream",
     "text": [
      "False\n",
      "True\n",
      "True\n",
      "False\n",
      "True\n",
      "False\n"
     ]
    }
   ],
   "execution_count": 8
  },
  {
   "metadata": {
    "ExecuteTime": {
     "end_time": "2025-07-26T17:20:04.525667300Z",
     "start_time": "2025-07-25T19:22:17.634881Z"
    }
   },
   "cell_type": "code",
   "source": [
    "# example\n",
    "\n",
    "def can_run_for_president(age):\n",
    "    \"\"\"Can someone of the given age run for president in the US?\"\"\"\n",
    "    # The US Constitution says you must be at least 35 years old\n",
    "    return age >= 35\n",
    "\n",
    "print(\"Can a 19-year-old run for president?\", can_run_for_president(19))\n",
    "print(\"Can a 45-year-old run for president?\", can_run_for_president(45))"
   ],
   "id": "e97f91ea4711338f",
   "outputs": [
    {
     "name": "stdout",
     "output_type": "stream",
     "text": [
      "Can a 19-year-old run for president? False\n",
      "Can a 45-year-old run for president? True\n"
     ]
    }
   ],
   "execution_count": 9
  },
  {
   "metadata": {
    "ExecuteTime": {
     "end_time": "2025-07-26T17:20:04.534953700Z",
     "start_time": "2025-07-25T19:31:00.146791Z"
    }
   },
   "cell_type": "code",
   "source": [
    "# Comparisons frequently work like you'd hope\n",
    "print(3.0 == 3)\n",
    "\n",
    "# But this one doesn't because the first '3' is read as a string\n",
    "print('3' == 3)\n"
   ],
   "id": "33b88de26f7e4148",
   "outputs": [
    {
     "name": "stdout",
     "output_type": "stream",
     "text": [
      "True\n",
      "False\n"
     ]
    }
   ],
   "execution_count": 11
  },
  {
   "metadata": {},
   "cell_type": "markdown",
   "source": "> Comparison operators can be combined with the arithmetic operators we've already seen to express a virtually limitless range of mathematical tests. For example, we can check if a number is odd by checking that the modulus with 2 returns 1:",
   "id": "f83d802c1094a048"
  },
  {
   "metadata": {
    "ExecuteTime": {
     "end_time": "2025-07-26T17:20:04.553429Z",
     "start_time": "2025-07-25T19:34:26.022524Z"
    }
   },
   "cell_type": "code",
   "source": [
    "def is_odd(n):\n",
    "    return n % 2 == 1\n",
    "\n",
    "print(\"Is 100 odd?\", is_odd(100))\n",
    "print(\"Is -1 odd?\", is_odd(-1))"
   ],
   "id": "8549458e1bdecd85",
   "outputs": [
    {
     "name": "stdout",
     "output_type": "stream",
     "text": [
      "Is 100 odd? False\n",
      "Is -1 odd? True\n"
     ]
    }
   ],
   "execution_count": 12
  },
  {
   "metadata": {},
   "cell_type": "markdown",
   "source": "## Combining Boolean Values",
   "id": "826feb62b2118d96"
  },
  {
   "metadata": {},
   "cell_type": "markdown",
   "source": [
    "> You can combine boolean values using the standard concepts of `and`, `or`, and `not`.\n",
    "\n",
    "> With these, we can make our can_run_for_president function more accurate."
   ],
   "id": "1341572db8fc76cc"
  },
  {
   "metadata": {
    "ExecuteTime": {
     "end_time": "2025-07-26T17:20:04.555469900Z",
     "start_time": "2025-07-25T19:42:23.462374Z"
    }
   },
   "cell_type": "code",
   "source": [
    "def can_run_for_president(age, is_natural_born_citizen):\n",
    "    \"\"\"Can a person of the given age and citizenship status run for president in the US?\"\"\"\n",
    "    # The US Constitution says you must be a natural born citizen *and* at least 35 years old\n",
    "    return is_natural_born_citizen and (age >= 35)\n",
    "\n",
    "print(can_run_for_president(19, True))\n",
    "print(can_run_for_president(55, False))\n",
    "print(can_run_for_president(55, True))\n"
   ],
   "id": "f6c0e6b70fa26c8e",
   "outputs": [
    {
     "name": "stdout",
     "output_type": "stream",
     "text": [
      "False\n",
      "False\n",
      "True\n"
     ]
    }
   ],
   "execution_count": 13
  },
  {
   "metadata": {
    "ExecuteTime": {
     "end_time": "2025-07-26T17:20:04.559521Z",
     "start_time": "2025-07-26T00:19:01.950817Z"
    }
   },
   "cell_type": "code",
   "source": [
    "# Guess the value of this expression\n",
    "\n",
    "True or True and False # and if evaluated before or"
   ],
   "id": "73ffccae2bfc52f2",
   "outputs": [
    {
     "data": {
      "text/plain": [
       "True"
      ]
     },
     "execution_count": 14,
     "metadata": {},
     "output_type": "execute_result"
    }
   ],
   "execution_count": 14
  },
  {
   "metadata": {},
   "cell_type": "markdown",
   "source": [
    "> You could try to memorize the order of precedence, but a safer bet is to just use liberal parentheses. Not only does this help prevent bugs, it makes your intentions clearer to anyone who reads your code.\n",
    "\n",
    "> For example, consider the following expression:"
   ],
   "id": "d5805907756f0297"
  },
  {
   "metadata": {
    "ExecuteTime": {
     "end_time": "2025-07-26T17:20:04.559521Z",
     "start_time": "2025-07-26T00:26:50.795896Z"
    }
   },
   "cell_type": "code",
   "source": [
    "have_umbrella = True\n",
    "rain_level = 2\n",
    "have_hood = True\n",
    "is_workday = False\n",
    "\n",
    "prepared_for_weather = have_umbrella or rain_level < 5 and have_hood or not rain_level > 0 and is_workday\n",
    "\n",
    "print(prepared_for_weather)"
   ],
   "id": "d9cdae653e762a6b",
   "outputs": [
    {
     "name": "stdout",
     "output_type": "stream",
     "text": [
      "True\n"
     ]
    }
   ],
   "execution_count": 16
  },
  {
   "metadata": {},
   "cell_type": "code",
   "outputs": [],
   "execution_count": null,
   "source": [
    "# The code above is hard to read, and it has a bug.\n",
    "# We can address both problems by adding some parenthesis\n",
    "\n",
    "prepared_for_weather = have_umbrella or (rain_level < 5 and have_hood) or not (rain_level > 0 and is_workday)"
   ],
   "id": "d8c53078ca1586fd"
  },
  {
   "metadata": {
    "ExecuteTime": {
     "end_time": "2025-07-26T17:20:04.567946100Z",
     "start_time": "2025-07-26T00:35:53.445457Z"
    }
   },
   "cell_type": "code",
   "source": [
    "# same thing, in a more readable format\n",
    "\n",
    "prepared_for_weather = (\n",
    "    have_umbrella\n",
    "    or\n",
    "    (rain_level < 5 and have_hood)\n",
    "    or\n",
    "    not (rain_level > 0 and is_workday)\n",
    ")\n",
    "print(prepared_for_weather)"
   ],
   "id": "786dbb84df757e4",
   "outputs": [
    {
     "name": "stdout",
     "output_type": "stream",
     "text": [
      "True\n"
     ]
    }
   ],
   "execution_count": 19
  },
  {
   "metadata": {
    "ExecuteTime": {
     "end_time": "2025-07-26T17:20:04.567946100Z",
     "start_time": "2025-07-26T00:36:01.950460Z"
    }
   },
   "cell_type": "code",
   "source": [
    "# with even more parenthesis\n",
    "\n",
    "prepared_for_weather = (\n",
    "    # if you have an umbrella, congrats, you're good to go.\n",
    "    # Program short circuits and ends here\n",
    "    have_umbrella\n",
    "    or\n",
    "    # or if the rain is less than 5 AND you have a hood\n",
    "    ((rain_level < 5) and have_hood)\n",
    "    or\n",
    "    # or if it's NOT both raining and a workday\n",
    "    (not(rain_level > 0 and is_workday))\n",
    ")\n",
    "print(prepared_for_weather)"
   ],
   "id": "aa15ae39ec8f9f70",
   "outputs": [
    {
     "name": "stdout",
     "output_type": "stream",
     "text": [
      "True\n"
     ]
    }
   ],
   "execution_count": 20
  },
  {
   "metadata": {},
   "cell_type": "markdown",
   "source": "## Conditionals",
   "id": "289312468cca8ee9"
  },
  {
   "metadata": {},
   "cell_type": "markdown",
   "source": [
    "> Booleans are most useful when combined with conditional statements, using the keywords `if`, `elif`, and `else`.\n",
    "\n",
    "> Conditional statements, often referred to as if-then statements, let you control what pieces of code are run based on the value of some Boolean condition.\n",
    " > Here's an example:"
   ],
   "id": "28dbb5429193e49c"
  },
  {
   "metadata": {
    "ExecuteTime": {
     "end_time": "2025-07-26T17:20:04.573272800Z",
     "start_time": "2025-07-26T00:47:31.428831Z"
    }
   },
   "cell_type": "code",
   "source": [
    "def inspect(x):\n",
    "    if x == 0:\n",
    "        print(x, \"is zero\")\n",
    "    elif x > 0:\n",
    "        print(x, \"is positive\")\n",
    "    elif x < 0:\n",
    "        print(x, \"is negative\")\n",
    "    else:\n",
    "        print(x, \"is unlike anything I've ever seen...\")\n",
    "\n",
    "inspect(0)\n",
    "inspect(-15)"
   ],
   "id": "62f067560bd632fe",
   "outputs": [
    {
     "name": "stdout",
     "output_type": "stream",
     "text": [
      "0 is zero\n",
      "-15 is negative\n"
     ]
    }
   ],
   "execution_count": 21
  },
  {
   "metadata": {},
   "cell_type": "markdown",
   "source": [
    "> Note especially the use of colons (:) and whitespace to denote separate blocks of code. This is similar to what happens when we define a function - the function header ends with :, and the following line is indented with 4 spaces.\n",
    "\n",
    "> All subsequent indented lines belong to the body of the function, until we encounter an unindented line, ending the function definition."
   ],
   "id": "c6cba405afe349ff"
  },
  {
   "metadata": {
    "ExecuteTime": {
     "end_time": "2025-07-26T17:20:04.576664500Z",
     "start_time": "2025-07-26T00:54:01.472583Z"
    }
   },
   "cell_type": "code",
   "source": [
    "def f(x):\n",
    "    if x > 0:\n",
    "        print(\"Only printed when x is positive; x =\", x)\n",
    "        print(\"Also only printed when x is positive; x =\", x)\n",
    "    print(\"Always printed, regardless of x's value; =\", x)\n",
    "\n",
    "f(1)\n",
    "f(0)"
   ],
   "id": "3288756c24cc4cf6",
   "outputs": [
    {
     "name": "stdout",
     "output_type": "stream",
     "text": [
      "Only printed when x is positive; x = 1\n",
      "Also only printed when x is positive; x = 1\n",
      "Always printed, regardless of x's value; = 1\n",
      "Always printed, regardless of x's value; = 0\n"
     ]
    }
   ],
   "execution_count": 24
  },
  {
   "metadata": {},
   "cell_type": "markdown",
   "source": "## Boolean Conversion",
   "id": "620fe9cad6b370bf"
  },
  {
   "metadata": {
    "ExecuteTime": {
     "end_time": "2025-07-26T17:21:57.488833Z",
     "start_time": "2025-07-26T17:21:57.473458Z"
    }
   },
   "cell_type": "code",
   "source": [
    "print(bool(1)) # all numbers are treated as true, except 0\n",
    "print(bool(0))\n",
    "print(bool(\"asf\")) # all string treated as true, except empty string\n",
    "print(bool(\"\"))\n",
    "\n",
    "# Generally empty sequences (string, lists, lists, tuples, etc) ...\n",
    "# are \"falsey\" and the rest are \"truthy\""
   ],
   "id": "9df3280e477cc257",
   "outputs": [
    {
     "name": "stdout",
     "output_type": "stream",
     "text": [
      "True\n",
      "False\n",
      "True\n",
      "False\n"
     ]
    }
   ],
   "execution_count": 28
  },
  {
   "metadata": {},
   "cell_type": "markdown",
   "source": "> We can use non-boolean objects in `if` conditions and other places where a boolean would be expected. Python will implicitly treat them as their corresponding boolean value:",
   "id": "78839b8dc896a7be"
  },
  {
   "metadata": {
    "ExecuteTime": {
     "end_time": "2025-07-26T17:29:54.120465Z",
     "start_time": "2025-07-26T17:29:54.097538Z"
    }
   },
   "cell_type": "code",
   "source": [
    "if 0:\n",
    "    print(0)\n",
    "elif \"spam\":\n",
    "    print(\"spam\")\n",
    "\n",
    "# What happens:\n",
    "# 1. The [if 0:] condition is checked. Since [0] is falsy, the code block under it is skipped.\n",
    "# 2. The [elif \"spam\":] condition is checked. The string [\"spam\"] is truthy, this block executes\n",
    "# 3. The output will be: spam"
   ],
   "id": "81a368b52ef66bb1",
   "outputs": [
    {
     "name": "stdout",
     "output_type": "stream",
     "text": [
      "spam\n"
     ]
    }
   ],
   "execution_count": 30
  },
  {
   "metadata": {},
   "cell_type": "markdown",
   "source": "## EXERCISE",
   "id": "74b8e4dcb47c5f80"
  }
 ],
 "metadata": {
  "kernelspec": {
   "display_name": "Python 3",
   "language": "python",
   "name": "python3"
  },
  "language_info": {
   "codemirror_mode": {
    "name": "ipython",
    "version": 2
   },
   "file_extension": ".py",
   "mimetype": "text/x-python",
   "name": "python",
   "nbconvert_exporter": "python",
   "pygments_lexer": "ipython2",
   "version": "2.7.6"
  }
 },
 "nbformat": 4,
 "nbformat_minor": 5
}
