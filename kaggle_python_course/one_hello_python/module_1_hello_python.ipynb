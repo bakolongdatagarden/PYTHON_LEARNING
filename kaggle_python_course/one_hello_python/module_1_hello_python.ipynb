{
 "cells": [
  {
   "metadata": {},
   "cell_type": "markdown",
   "source": [
    "# Hello, Python\n",
    "\n",
    "Python was named for the British comedy troup Monty Python, our first Python program is a homage to their skit about spam."
   ],
   "id": "8a77807f92f26ee"
  },
  {
   "metadata": {},
   "cell_type": "markdown",
   "source": "https://www.kaggle.com/code/colinmorris/hello-python",
   "id": "35c94426b5b15eba"
  },
  {
   "metadata": {
    "jupyter": {
     "is_executing": true
    }
   },
   "cell_type": "code",
   "source": [
    "spam_amount = 0\n",
    "print(spam_amount)\n",
    "\n",
    "# Ordering Spam, egg, Spam, Spam, bacon and Spam (4 more servings of spam)\n",
    "spam_amount = spam_amount + 4\n",
    "\n",
    "if spam_amount > 0:\n",
    "    print(\"But I don't want ANY spam!\")\n",
    "\n",
    "viking_song = \"Spam \" * spam_amount\n",
    "print(viking_song)\n"
   ],
   "id": "fbc121e30a2defb3",
   "outputs": [],
   "execution_count": null
  },
  {
   "metadata": {},
   "cell_type": "markdown",
   "source": "Let's review the code from top to bottom",
   "id": "43e2a9adb9f6be73"
  },
  {
   "metadata": {
    "ExecuteTime": {
     "end_time": "2025-07-12T17:09:17.333634600Z",
     "start_time": "2025-07-12T00:20:55.395280Z"
    }
   },
   "cell_type": "code",
   "source": "spam_amount = 0",
   "id": "c3993332ded60338",
   "outputs": [],
   "execution_count": 9
  },
  {
   "metadata": {},
   "cell_type": "markdown",
   "source": [
    "**Variable Assignment**\n",
    "\n",
    "We create a variable called ` spam_amount ` and assign it the value of 0 using `=`, which is called the assignment operator."
   ],
   "id": "12083b77dbf7ecb9"
  },
  {
   "metadata": {
    "ExecuteTime": {
     "end_time": "2025-07-12T17:09:17.384157900Z",
     "start_time": "2025-07-12T00:19:51.797129Z"
    }
   },
   "cell_type": "code",
   "source": "print(spam_amount)",
   "id": "40f8a374c8f4d6b5",
   "outputs": [
    {
     "name": "stdout",
     "output_type": "stream",
     "text": [
      "0\n"
     ]
    }
   ],
   "execution_count": 7
  },
  {
   "metadata": {},
   "cell_type": "markdown",
   "source": [
    "**Function Calls**\n",
    "\n",
    "`print` displays the value passed to it on the screen (**argument**)"
   ],
   "id": "9556dda9d65d1713"
  },
  {
   "metadata": {
    "ExecuteTime": {
     "end_time": "2025-07-12T17:09:17.394579800Z",
     "start_time": "2025-07-12T01:55:31.612527Z"
    }
   },
   "cell_type": "code",
   "source": [
    "# Ordering Spam, egg, Spam, Spam, bacon and Spam (4 more servings of Spam)\n",
    "\n",
    "spam_amount = spam_amount + 4"
   ],
   "id": "a3e129daa9bf1bfb",
   "outputs": [],
   "execution_count": 11
  },
  {
   "metadata": {},
   "cell_type": "markdown",
   "source": [
    "The line beginning with the `#` symbol is called a comment\n",
    "\n",
    "**Variable Reassignment**\n",
    "\n",
    "Next we reassign, or update, its previous value"
   ],
   "id": "d0e13cb26e5ee8a3"
  },
  {
   "metadata": {
    "ExecuteTime": {
     "end_time": "2025-07-12T17:09:17.404471200Z",
     "start_time": "2025-07-12T01:55:33.346601Z"
    }
   },
   "cell_type": "code",
   "source": [
    "if spam_amount > 0:\n",
    "    print(\"But I don't want ANY spam!\")\n",
    "\n",
    "viking_song = \"Spam Spam Spam\"\n",
    "print(viking_song)"
   ],
   "id": "d455c1984a051aa6",
   "outputs": [
    {
     "name": "stdout",
     "output_type": "stream",
     "text": [
      "But I don't want ANY spam!\n",
      "Spam Spam Spam\n"
     ]
    }
   ],
   "execution_count": 12
  },
  {
   "metadata": {},
   "cell_type": "markdown",
   "source": [
    "**Conditionals**\n",
    "\n",
    "* Which code belongs to the if block?\n",
    "    * \"But I don't want ANY spam! only prints if spam_amount is positive.\n",
    "* What about the later code?\n",
    "    * code like print(viking_song) executes no matter what.\n"
   ],
   "id": "b59d0646beb05c94"
  },
  {
   "metadata": {
    "ExecuteTime": {
     "end_time": "2025-07-12T17:09:17.438969200Z",
     "start_time": "2025-07-12T02:04:45.165327Z"
    }
   },
   "cell_type": "code",
   "source": [
    "viking_song = \"Spam \" * spam_amount\n",
    "print(viking_song)"
   ],
   "id": "3f9bc2b6d2de0169",
   "outputs": [
    {
     "name": "stdout",
     "output_type": "stream",
     "text": [
      "Spam Spam Spam Spam \n"
     ]
    }
   ],
   "execution_count": 13
  },
  {
   "metadata": {},
   "cell_type": "markdown",
   "source": [
    "The `*` operator can multiply two numbers ( `3 * 3` )\n",
    "\n",
    "We can also multiply a string by a number, to repeat that string x many times."
   ],
   "id": "79322ed0f6991ce1"
  },
  {
   "metadata": {},
   "cell_type": "markdown",
   "source": "## Numbers and Arithmetic in Python",
   "id": "1947e375aad3f4b0"
  },
  {
   "metadata": {
    "ExecuteTime": {
     "end_time": "2025-07-12T17:09:17.458193700Z",
     "start_time": "2025-07-12T02:14:05.962050Z"
    }
   },
   "cell_type": "code",
   "source": [
    "# An example of a variable containing a number\n",
    "\n",
    "spam_amount = 0"
   ],
   "id": "1d3d7616a57c3b4b",
   "outputs": [],
   "execution_count": 14
  },
  {
   "metadata": {},
   "cell_type": "markdown",
   "source": [
    "**Integers**\n",
    "\n",
    "\"Number\" is the informal name for this kind of thing\n",
    "\n",
    "To be more technical, here's how Python describes this as an integer (`int`)"
   ],
   "id": "1ae52079cc8b69af"
  },
  {
   "metadata": {
    "ExecuteTime": {
     "end_time": "2025-07-12T17:09:17.471986400Z",
     "start_time": "2025-07-12T02:16:15.244797Z"
    }
   },
   "cell_type": "code",
   "source": "print(type(spam_amount))",
   "id": "701aa0cf1f68faef",
   "outputs": [
    {
     "name": "stdout",
     "output_type": "stream",
     "text": [
      "<class 'int'>\n"
     ]
    }
   ],
   "execution_count": 16
  },
  {
   "metadata": {},
   "cell_type": "markdown",
   "source": [
    "**Floats**\n",
    "\n",
    "A `float` is a number with a decimal place - very useful for representing things like weights or proportions."
   ],
   "id": "b57155b94467b45c"
  },
  {
   "metadata": {
    "ExecuteTime": {
     "end_time": "2025-07-12T17:09:17.474327Z",
     "start_time": "2025-07-12T02:21:37.899034Z"
    }
   },
   "cell_type": "code",
   "source": "print(type(19.95))",
   "id": "3b4cc3ce6d259e60",
   "outputs": [
    {
     "name": "stdout",
     "output_type": "stream",
     "text": [
      "<class 'float'>\n"
     ]
    }
   ],
   "execution_count": 17
  },
  {
   "metadata": {},
   "cell_type": "markdown",
   "source": "**Arithmetic Operators**",
   "id": "c8c9b4d176ae18a4"
  },
  {
   "metadata": {
    "ExecuteTime": {
     "end_time": "2025-07-12T17:09:17.479356700Z",
     "start_time": "2025-07-12T02:33:49.041410Z"
    }
   },
   "cell_type": "code",
   "source": [
    "print(\"Sum:\", 9 + 9) # addition\n",
    "print(\"Difference:\", 9 - 9) # subtraction\n",
    "print(\"Product:\", 9 * 9) # multiplication\n",
    "print(\"Quotient (float):\", 99 / 9) # true division (float)\n",
    "print(\"Quotient (int):\",  99 // 9) # floor division (int)\n",
    "print(\"Int remainder:\", 99 % 9) # modulus\n",
    "print(\"Exponent:\", 9 ** 9) # exponentiation\n",
    "print(\"Negation:\",-9) # negation"
   ],
   "id": "b4e990256a6041f1",
   "outputs": [
    {
     "name": "stdout",
     "output_type": "stream",
     "text": [
      "Sum: 18\n",
      "Difference: 0\n",
      "Product: 81\n",
      "Quotient (float): 11.0\n",
      "Quotient (int): 11\n",
      "Int remainder: 0\n",
      "Exponent: 387420489\n",
      "Negation: -9\n"
     ]
    }
   ],
   "execution_count": 20
  },
  {
   "metadata": {},
   "cell_type": "markdown",
   "source": [
    "**Order of Operations**\n",
    "\n",
    "- **P** arentheses\n",
    "- **E** exponents\n",
    "- **M** ultiplication\n",
    "- **D** ivision\n",
    "- **A** ddition\n",
    "- **S** ubtraction"
   ],
   "id": "6015943240fd47ed"
  },
  {
   "metadata": {
    "ExecuteTime": {
     "end_time": "2025-07-12T17:09:17.484861400Z",
     "start_time": "2025-07-12T02:37:21.134211Z"
    }
   },
   "cell_type": "code",
   "source": "print(18 - (8 + 6) - 18 / 9)",
   "id": "9600d7bd2565087",
   "outputs": [
    {
     "name": "stdout",
     "output_type": "stream",
     "text": [
      "2.0\n"
     ]
    }
   ],
   "execution_count": 21
  },
  {
   "metadata": {},
   "cell_type": "markdown",
   "source": "> Sometimes the default order of operations isn't what we want:",
   "id": "da187ddab136d73e"
  },
  {
   "metadata": {
    "ExecuteTime": {
     "end_time": "2025-07-12T17:09:17.487907Z",
     "start_time": "2025-07-12T02:40:39.986648Z"
    }
   },
   "cell_type": "code",
   "source": [
    "hat_height_cm = 25\n",
    "my_height_cm = 190\n",
    "# How tall am I, in meters, when wearing my hat?\n",
    "total_height_meters = hat_height_cm + my_height_cm / 100\n",
    "print(\"Height in meters =\", total_height_meters, \"?\")"
   ],
   "id": "1c345a64b8c0b04c",
   "outputs": [
    {
     "name": "stdout",
     "output_type": "stream",
     "text": [
      "Height in meters = 26.9 ?\n"
     ]
    }
   ],
   "execution_count": 22
  },
  {
   "metadata": {},
   "cell_type": "markdown",
   "source": "> Parentheses are useful here. You can add them to force Python to evaluate sub-expressions in whatever order you want.",
   "id": "99da915bc386e7ee"
  },
  {
   "metadata": {
    "ExecuteTime": {
     "end_time": "2025-07-12T17:09:17.487907Z",
     "start_time": "2025-07-12T02:41:16.536422Z"
    }
   },
   "cell_type": "code",
   "source": [
    "total_height_meters = (hat_height_cm + my_height_cm) / 100\n",
    "print(\"Height in meters =\", total_height_meters)"
   ],
   "id": "178906fffaac53ae",
   "outputs": [
    {
     "name": "stdout",
     "output_type": "stream",
     "text": [
      "Height in meters = 2.15\n"
     ]
    }
   ],
   "execution_count": 23
  },
  {
   "metadata": {},
   "cell_type": "markdown",
   "source": [
    "**MIN & MAX**\n",
    "\n",
    "`min` and `max` return the minimum and maximum or their arguments"
   ],
   "id": "694d264001bb13cb"
  },
  {
   "metadata": {
    "ExecuteTime": {
     "end_time": "2025-07-12T17:09:17.489931100Z",
     "start_time": "2025-07-12T02:42:43.010475Z"
    }
   },
   "cell_type": "code",
   "source": [
    "print(min(3, 6, 9))\n",
    "print(max(3, 6, 9))"
   ],
   "id": "addf92115b357377",
   "outputs": [
    {
     "name": "stdout",
     "output_type": "stream",
     "text": [
      "3\n",
      "9\n"
     ]
    }
   ],
   "execution_count": 25
  },
  {
   "metadata": {},
   "cell_type": "markdown",
   "source": [
    "**ABS**\n",
    "\n",
    "abs returns the absolute value of an argument"
   ],
   "id": "f9d6b85ba144ef09"
  },
  {
   "metadata": {
    "ExecuteTime": {
     "end_time": "2025-07-12T17:09:17.491163300Z",
     "start_time": "2025-07-12T02:48:10.284473Z"
    }
   },
   "cell_type": "code",
   "source": [
    "print(abs(99))\n",
    "print(abs(-99))\n"
   ],
   "id": "6c46b64c45a758df",
   "outputs": [
    {
     "name": "stdout",
     "output_type": "stream",
     "text": [
      "99\n",
      "99\n"
     ]
    }
   ],
   "execution_count": 27
  },
  {
   "metadata": {},
   "cell_type": "markdown",
   "source": [
    "**Conversion**\n",
    "\n",
    "In addition to being the names of Python's two main numerical types, int and float can also be called as functions which convert their arguments to the corresponding type:"
   ],
   "id": "1040b240f93f445d"
  },
  {
   "metadata": {
    "jupyter": {
     "is_executing": true
    }
   },
   "cell_type": "code",
   "source": [
    "print(float(9))\n",
    "print(int(9.99))\n",
    "# They can even be called on strings!\n",
    "print(int('908') + 1)"
   ],
   "id": "2489dd10ffdf83cd",
   "outputs": [],
   "execution_count": null
  },
  {
   "metadata": {},
   "cell_type": "markdown",
   "source": [
    "## EXERCISES FOR MODULE 1\n",
    "> Syntax, Variables, and Numbers\n"
   ],
   "id": "4219c96e41f7dd42"
  },
  {
   "metadata": {
    "ExecuteTime": {
     "end_time": "2025-07-13T16:49:42.776980Z",
     "start_time": "2025-07-13T16:49:42.769905Z"
    }
   },
   "cell_type": "code",
   "source": [
    "print(\"You've successfully run some Python code\")\n",
    "print(\"Congratulations!\")"
   ],
   "id": "b8143685576d926c",
   "outputs": [
    {
     "name": "stdout",
     "output_type": "stream",
     "text": [
      "You've successfully run some Python code\n",
      "Congratulations!\n"
     ]
    }
   ],
   "execution_count": 1
  },
  {
   "metadata": {},
   "cell_type": "markdown",
   "source": "### 1. Create variables to solve for radius and area.\n",
   "id": "e383fc0832da4ece"
  },
  {
   "metadata": {
    "ExecuteTime": {
     "end_time": "2025-07-13T16:50:22.306041Z",
     "start_time": "2025-07-13T16:50:22.286810Z"
    }
   },
   "cell_type": "code",
   "source": [
    "pi = 3.14159\n",
    "diameter = 3\n",
    "\n",
    "# Create a variable 'radius' equal to half the diameter\n",
    "radius = diameter / 2\n",
    "\n",
    "# Create a variable called 'area', using formula for the area of a circle\n",
    "area = pi * radius ** 2\n",
    "\n",
    "# Let's print it out\n",
    "print(f\"The radius of the circle is {radius}\")\n",
    "print(f\"The area of the circle is {area}\")"
   ],
   "id": "7c7466bf8c00485c",
   "outputs": [
    {
     "name": "stdout",
     "output_type": "stream",
     "text": [
      "The radius of the circle is 1.5\n",
      "The area of the circle is 7.0685775\n"
     ]
    }
   ],
   "execution_count": 2
  },
  {
   "metadata": {},
   "cell_type": "markdown",
   "source": "###  2. Add code to the following cell to swap variables a and b.",
   "id": "d110bccbe6597c8b"
  },
  {
   "metadata": {
    "ExecuteTime": {
     "end_time": "2025-07-13T16:51:19.980128Z",
     "start_time": "2025-07-13T16:51:19.972989Z"
    }
   },
   "cell_type": "code",
   "source": [
    "a = [1, 2, 3]\n",
    "b = [3, 2, 1]\n",
    "\n",
    "c = a\n",
    "a = b\n",
    "b = c\n",
    "\n",
    "print(a)\n",
    "print(b)"
   ],
   "id": "acae1814d13b23f2",
   "outputs": [
    {
     "name": "stdout",
     "output_type": "stream",
     "text": [
      "[3, 2, 1]\n",
      "[1, 2, 3]\n"
     ]
    }
   ],
   "execution_count": 4
  },
  {
   "metadata": {},
   "cell_type": "markdown",
   "source": "To swap the values of `a` and `b`, we use a temporary variable `c` to hold the original value of `a`. Next, we assign `b`'s value to `a`, effectively overwriting `a` with `b`'s contents. Finally, we assign the stored value from `c` (originally `a`) to `b`, completing the swap. This ensures that neither value is lost during the process.",
   "id": "30c39556cf5916a1"
  },
  {
   "metadata": {
    "ExecuteTime": {
     "end_time": "2025-07-13T16:51:22.739831Z",
     "start_time": "2025-07-13T16:51:22.733524Z"
    }
   },
   "cell_type": "code",
   "source": [
    "# Kaggle's solution using a more descriptive third variable\n",
    "\n",
    "tmp = a\n",
    "a = b\n",
    "b = tmp\n",
    "\n",
    "print(a)\n",
    "print(b)"
   ],
   "id": "240d6a1bd21dab7f",
   "outputs": [
    {
     "name": "stdout",
     "output_type": "stream",
     "text": [
      "[1, 2, 3]\n",
      "[3, 2, 1]\n"
     ]
    }
   ],
   "execution_count": 5
  },
  {
   "metadata": {
    "ExecuteTime": {
     "end_time": "2025-07-13T16:51:55.363838Z",
     "start_time": "2025-07-13T16:51:55.355832Z"
    }
   },
   "cell_type": "code",
   "source": [
    "# Swap two variables in one line\n",
    "a, b = b, a\n",
    "\n",
    "print(a)\n",
    "print(b)"
   ],
   "id": "21c2294b2e94cddd",
   "outputs": [
    {
     "name": "stdout",
     "output_type": "stream",
     "text": [
      "[3, 2, 1]\n",
      "[1, 2, 3]\n"
     ]
    }
   ],
   "execution_count": 6
  },
  {
   "metadata": {},
   "cell_type": "markdown",
   "source": "### 3. Add parentheses to the following expression so that it evaluates to 1.",
   "id": "1c5604b335840e7c"
  },
  {
   "metadata": {
    "ExecuteTime": {
     "end_time": "2025-07-13T16:52:15.253254Z",
     "start_time": "2025-07-13T16:52:15.227191Z"
    }
   },
   "cell_type": "code",
   "source": [
    "# original\n",
    "5 - 3 // 2"
   ],
   "id": "c273634eb9d46979",
   "outputs": [
    {
     "data": {
      "text/plain": [
       "4"
      ]
     },
     "execution_count": 7,
     "metadata": {},
     "output_type": "execute_result"
    }
   ],
   "execution_count": 7
  },
  {
   "metadata": {
    "ExecuteTime": {
     "end_time": "2025-07-13T16:52:25.817755Z",
     "start_time": "2025-07-13T16:52:25.809832Z"
    }
   },
   "cell_type": "code",
   "source": [
    "# With parentheses\n",
    "(5 - 3 ) // 2"
   ],
   "id": "57f4c8f8e1f5ae76",
   "outputs": [
    {
     "data": {
      "text/plain": [
       "1"
      ]
     },
     "execution_count": 8,
     "metadata": {},
     "output_type": "execute_result"
    }
   ],
   "execution_count": 8
  },
  {
   "metadata": {},
   "cell_type": "markdown",
   "source": "### 3b: Add parentheses to the following expression so that it evaluates to 0.",
   "id": "5b1bf902b1731c72"
  },
  {
   "metadata": {
    "ExecuteTime": {
     "end_time": "2025-07-13T16:52:53.696383Z",
     "start_time": "2025-07-13T16:52:53.687089Z"
    }
   },
   "cell_type": "code",
   "source": [
    "# Original\n",
    "8 - 3 * 2 - 1 + 1"
   ],
   "id": "89846338cce394c6",
   "outputs": [
    {
     "data": {
      "text/plain": [
       "2"
      ]
     },
     "execution_count": 9,
     "metadata": {},
     "output_type": "execute_result"
    }
   ],
   "execution_count": 9
  },
  {
   "metadata": {
    "ExecuteTime": {
     "end_time": "2025-07-13T16:52:55.089004Z",
     "start_time": "2025-07-13T16:52:55.079783Z"
    }
   },
   "cell_type": "code",
   "source": [
    "# With parenthesis\n",
    "8 - 3 * 2 - (1 + 1)"
   ],
   "id": "b712b7d64c686ec6",
   "outputs": [
    {
     "data": {
      "text/plain": [
       "0"
      ]
     },
     "execution_count": 10,
     "metadata": {},
     "output_type": "execute_result"
    }
   ],
   "execution_count": 10
  },
  {
   "metadata": {},
   "cell_type": "code",
   "outputs": [],
   "execution_count": null,
   "source": [
    "# Kaggle's solution\n",
    "(8-3) * (2 - (1 + 1))"
   ],
   "id": "75aff00cc0cf9431"
  },
  {
   "metadata": {},
   "cell_type": "markdown",
   "source": [
    "### 4. Halloween Candy\n",
    "> Alice, Bob and Carol have agreed to pool their Halloween candy and split it evenly among themselves.\n",
    "For the sake of their friendship, any candies left over will be smashed. For example, if they collectively\n",
    "bring home 91 candies, they'll take 30 each and smash 1."
   ],
   "id": "851624b041b14cc1"
  },
  {
   "metadata": {
    "ExecuteTime": {
     "end_time": "2025-07-13T16:53:18.613979Z",
     "start_time": "2025-07-13T16:53:18.595743Z"
    }
   },
   "cell_type": "code",
   "source": [
    "#  Write an arithmetic expression below to calculate how many candies they must smash for a given haul.\n",
    "\n",
    "alice_candies = 121\n",
    "bob_candies = 77\n",
    "carol_candies = 109\n",
    "\n",
    "# Calculate the amount to smash\n",
    "\n",
    "to_smash = (alice_candies + bob_candies + carol_candies) % 3\n",
    "\n",
    "print(\"Number of candies to smash for this haul:\", to_smash)"
   ],
   "id": "c421e38133df0d63",
   "outputs": [
    {
     "name": "stdout",
     "output_type": "stream",
     "text": [
      "Number of candies to smash for this haul: 1\n"
     ]
    }
   ],
   "execution_count": 11
  }
 ],
 "metadata": {
  "kernelspec": {
   "display_name": "Python 3",
   "language": "python",
   "name": "python3"
  },
  "language_info": {
   "codemirror_mode": {
    "name": "ipython",
    "version": 2
   },
   "file_extension": ".py",
   "mimetype": "text/x-python",
   "name": "python",
   "nbconvert_exporter": "python",
   "pygments_lexer": "ipython2",
   "version": "2.7.6"
  }
 },
 "nbformat": 4,
 "nbformat_minor": 5
}
