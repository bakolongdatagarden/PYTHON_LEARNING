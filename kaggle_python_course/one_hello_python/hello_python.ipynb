{
 "cells": [
  {
   "metadata": {},
   "cell_type": "markdown",
   "source": [
    "# Hello, Python\n",
    "\n",
    "Python was named for the British comedy troup Monty Python, our first Python program is a homage to their skit about spam."
   ],
   "id": "8a77807f92f26ee"
  },
  {
   "metadata": {},
   "cell_type": "markdown",
   "source": "https://www.kaggle.com/code/colinmorris/hello-python",
   "id": "35c94426b5b15eba"
  },
  {
   "metadata": {
    "ExecuteTime": {
     "end_time": "2025-07-12T00:20:50.562129Z",
     "start_time": "2025-07-12T00:20:50.554719Z"
    }
   },
   "cell_type": "code",
   "source": [
    "spam_amount = 0\n",
    "print(spam_amount)\n",
    "\n",
    "# Ordering Spam, egg, Spam, Spam, bacon and Spam (4 more servings of spam)\n",
    "spam_amount = spam_amount + 4\n",
    "\n",
    "if spam_amount > 0:\n",
    "    print(\"But I don't want ANY spam!\")\n",
    "\n",
    "viking_song = \"Spam \" * spam_amount\n",
    "print(viking_song)\n"
   ],
   "id": "fbc121e30a2defb3",
   "outputs": [
    {
     "name": "stdout",
     "output_type": "stream",
     "text": [
      "0\n",
      "But I don't want ANY spam!\n",
      "Spam Spam Spam Spam \n"
     ]
    }
   ],
   "execution_count": 8
  },
  {
   "metadata": {},
   "cell_type": "markdown",
   "source": "Let's review the code from top to bottom",
   "id": "43e2a9adb9f6be73"
  },
  {
   "metadata": {
    "ExecuteTime": {
     "end_time": "2025-07-12T00:20:55.406504Z",
     "start_time": "2025-07-12T00:20:55.395280Z"
    }
   },
   "cell_type": "code",
   "source": "spam_amount = 0",
   "id": "c3993332ded60338",
   "outputs": [],
   "execution_count": 9
  },
  {
   "metadata": {},
   "cell_type": "markdown",
   "source": [
    "**Variable Assignment**\n",
    "\n",
    "We create a variable called ` spam_amount ` and assign it the value of 0 using `=`, which is called the assignment operator."
   ],
   "id": "12083b77dbf7ecb9"
  },
  {
   "metadata": {
    "ExecuteTime": {
     "end_time": "2025-07-12T00:19:51.809186Z",
     "start_time": "2025-07-12T00:19:51.797129Z"
    }
   },
   "cell_type": "code",
   "source": "print(spam_amount)",
   "id": "40f8a374c8f4d6b5",
   "outputs": [
    {
     "name": "stdout",
     "output_type": "stream",
     "text": [
      "0\n"
     ]
    }
   ],
   "execution_count": 7
  },
  {
   "metadata": {},
   "cell_type": "markdown",
   "source": [
    "**Function Calls**\n",
    "\n",
    "`print` displays the value passed to it on the screen (**argument**)"
   ],
   "id": "9556dda9d65d1713"
  },
  {
   "metadata": {
    "ExecuteTime": {
     "end_time": "2025-07-12T01:55:31.619083Z",
     "start_time": "2025-07-12T01:55:31.612527Z"
    }
   },
   "cell_type": "code",
   "source": [
    "# Ordering Spam, egg, Spam, Spam, bacon and Spam (4 more servings of Spam)\n",
    "\n",
    "spam_amount = spam_amount + 4"
   ],
   "id": "a3e129daa9bf1bfb",
   "outputs": [],
   "execution_count": 11
  },
  {
   "metadata": {},
   "cell_type": "markdown",
   "source": [
    "The line beginning with the `#` symbol is called a comment\n",
    "\n",
    "**Variable Reassignment**\n",
    "\n",
    "Next we reassign, or update, its previous value"
   ],
   "id": "d0e13cb26e5ee8a3"
  },
  {
   "metadata": {
    "ExecuteTime": {
     "end_time": "2025-07-12T01:55:33.355712Z",
     "start_time": "2025-07-12T01:55:33.346601Z"
    }
   },
   "cell_type": "code",
   "source": [
    "if spam_amount > 0:\n",
    "    print(\"But I don't want ANY spam!\")\n",
    "\n",
    "viking_song = \"Spam Spam Spam\"\n",
    "print(viking_song)"
   ],
   "id": "d455c1984a051aa6",
   "outputs": [
    {
     "name": "stdout",
     "output_type": "stream",
     "text": [
      "But I don't want ANY spam!\n",
      "Spam Spam Spam\n"
     ]
    }
   ],
   "execution_count": 12
  },
  {
   "metadata": {},
   "cell_type": "markdown",
   "source": [
    "**Conditionals**\n",
    "\n",
    "* Which code belongs to the if block?\n",
    "    * \"But I don't want ANY spam! only prints if spam_amount is positive.\n",
    "* What about the later code?\n",
    "    * code like print(viking_song) executes no matter what.\n"
   ],
   "id": "b59d0646beb05c94"
  },
  {
   "metadata": {
    "ExecuteTime": {
     "end_time": "2025-07-12T02:04:45.178417Z",
     "start_time": "2025-07-12T02:04:45.165327Z"
    }
   },
   "cell_type": "code",
   "source": [
    "viking_song = \"Spam \" * spam_amount\n",
    "print(viking_song)"
   ],
   "id": "3f9bc2b6d2de0169",
   "outputs": [
    {
     "name": "stdout",
     "output_type": "stream",
     "text": [
      "Spam Spam Spam Spam \n"
     ]
    }
   ],
   "execution_count": 13
  },
  {
   "metadata": {},
   "cell_type": "markdown",
   "source": [
    "The `*` operator can multiply two numbers ( `3 * 3` )\n",
    "\n",
    "We can also multiply a string by a number, to repeat that string x many times."
   ],
   "id": "79322ed0f6991ce1"
  },
  {
   "metadata": {},
   "cell_type": "markdown",
   "source": "## Numbers and Arithmetic in Python",
   "id": "1947e375aad3f4b0"
  },
  {
   "metadata": {
    "ExecuteTime": {
     "end_time": "2025-07-12T02:14:05.975857Z",
     "start_time": "2025-07-12T02:14:05.962050Z"
    }
   },
   "cell_type": "code",
   "source": [
    "# An example of a variable containing a number\n",
    "\n",
    "spam_amount = 0"
   ],
   "id": "1d3d7616a57c3b4b",
   "outputs": [],
   "execution_count": 14
  },
  {
   "metadata": {},
   "cell_type": "markdown",
   "source": [
    "**Integers**\n",
    "\n",
    "\"Number\" is the informal name for this kind of thing\n",
    "\n",
    "To be more technical, here's how Python describes this as an integer (`int`)"
   ],
   "id": "1ae52079cc8b69af"
  },
  {
   "metadata": {
    "ExecuteTime": {
     "end_time": "2025-07-12T02:16:15.267503Z",
     "start_time": "2025-07-12T02:16:15.244797Z"
    }
   },
   "cell_type": "code",
   "source": "print(type(spam_amount))",
   "id": "701aa0cf1f68faef",
   "outputs": [
    {
     "name": "stdout",
     "output_type": "stream",
     "text": [
      "<class 'int'>\n"
     ]
    }
   ],
   "execution_count": 16
  },
  {
   "metadata": {},
   "cell_type": "markdown",
   "source": [
    "**Floats**\n",
    "\n",
    "A `float` is a number with a decimal place - very useful for representing things like weights or proportions."
   ],
   "id": "b57155b94467b45c"
  },
  {
   "metadata": {
    "ExecuteTime": {
     "end_time": "2025-07-12T02:21:37.923019Z",
     "start_time": "2025-07-12T02:21:37.899034Z"
    }
   },
   "cell_type": "code",
   "source": "print(type(19.95))",
   "id": "3b4cc3ce6d259e60",
   "outputs": [
    {
     "name": "stdout",
     "output_type": "stream",
     "text": [
      "<class 'float'>\n"
     ]
    }
   ],
   "execution_count": 17
  },
  {
   "metadata": {},
   "cell_type": "markdown",
   "source": "**Arithmetic Operators**",
   "id": "c8c9b4d176ae18a4"
  },
  {
   "metadata": {
    "ExecuteTime": {
     "end_time": "2025-07-12T02:33:49.054547Z",
     "start_time": "2025-07-12T02:33:49.041410Z"
    }
   },
   "cell_type": "code",
   "source": [
    "print(\"Sum:\", 9 + 9) # addition\n",
    "print(\"Difference:\", 9 - 9) # subtraction\n",
    "print(\"Product:\", 9 * 9) # multiplication\n",
    "print(\"Quotient (float):\", 99 / 9) # true division (float)\n",
    "print(\"Quotient (int):\",  99 // 9) # floor division (int)\n",
    "print(\"Int remainder:\", 99 % 9) # modulus\n",
    "print(\"Exponent:\", 9 ** 9) # exponentiation\n",
    "print(\"Negation:\",-9) # negation"
   ],
   "id": "b4e990256a6041f1",
   "outputs": [
    {
     "name": "stdout",
     "output_type": "stream",
     "text": [
      "Sum: 18\n",
      "Difference: 0\n",
      "Product: 81\n",
      "Quotient (float): 11.0\n",
      "Quotient (int): 11\n",
      "Int remainder: 0\n",
      "Exponent: 387420489\n",
      "Negation: -9\n"
     ]
    }
   ],
   "execution_count": 20
  },
  {
   "metadata": {},
   "cell_type": "markdown",
   "source": [
    "**Order of Operations**\n",
    "\n",
    "- **P** arentheses\n",
    "- **E** exponents\n",
    "- **M** ultiplication\n",
    "- **D** ivision\n",
    "- **A** ddition\n",
    "- **S** ubtraction"
   ],
   "id": "6015943240fd47ed"
  },
  {
   "metadata": {
    "ExecuteTime": {
     "end_time": "2025-07-12T02:37:21.155977Z",
     "start_time": "2025-07-12T02:37:21.134211Z"
    }
   },
   "cell_type": "code",
   "source": "print(18 - (8 + 6) - 18 / 9)",
   "id": "9600d7bd2565087",
   "outputs": [
    {
     "name": "stdout",
     "output_type": "stream",
     "text": [
      "2.0\n"
     ]
    }
   ],
   "execution_count": 21
  },
  {
   "metadata": {},
   "cell_type": "markdown",
   "source": "> Sometimes the default order of operations isn't what we want:",
   "id": "da187ddab136d73e"
  },
  {
   "metadata": {
    "ExecuteTime": {
     "end_time": "2025-07-12T02:40:39.996108Z",
     "start_time": "2025-07-12T02:40:39.986648Z"
    }
   },
   "cell_type": "code",
   "source": [
    "hat_height_cm = 25\n",
    "my_height_cm = 190\n",
    "# How tall am I, in meters, when wearing my hat?\n",
    "total_height_meters = hat_height_cm + my_height_cm / 100\n",
    "print(\"Height in meters =\", total_height_meters, \"?\")"
   ],
   "id": "1c345a64b8c0b04c",
   "outputs": [
    {
     "name": "stdout",
     "output_type": "stream",
     "text": [
      "Height in meters = 26.9 ?\n"
     ]
    }
   ],
   "execution_count": 22
  },
  {
   "metadata": {},
   "cell_type": "markdown",
   "source": "> Parentheses are useful here. You can add them to force Python to evaluate sub-expressions in whatever order you want.",
   "id": "99da915bc386e7ee"
  },
  {
   "metadata": {
    "ExecuteTime": {
     "end_time": "2025-07-12T02:41:16.545758Z",
     "start_time": "2025-07-12T02:41:16.536422Z"
    }
   },
   "cell_type": "code",
   "source": [
    "total_height_meters = (hat_height_cm + my_height_cm) / 100\n",
    "print(\"Height in meters =\", total_height_meters)"
   ],
   "id": "178906fffaac53ae",
   "outputs": [
    {
     "name": "stdout",
     "output_type": "stream",
     "text": [
      "Height in meters = 2.15\n"
     ]
    }
   ],
   "execution_count": 23
  },
  {
   "metadata": {},
   "cell_type": "markdown",
   "source": [
    "**MIN & MAX**\n",
    "\n",
    "`min` and `max` return the minimum and maximum or their arguments"
   ],
   "id": "694d264001bb13cb"
  },
  {
   "metadata": {
    "ExecuteTime": {
     "end_time": "2025-07-12T02:42:43.018132Z",
     "start_time": "2025-07-12T02:42:43.010475Z"
    }
   },
   "cell_type": "code",
   "source": [
    "print(min(3, 6, 9))\n",
    "print(max(3, 6, 9))"
   ],
   "id": "addf92115b357377",
   "outputs": [
    {
     "name": "stdout",
     "output_type": "stream",
     "text": [
      "3\n",
      "9\n"
     ]
    }
   ],
   "execution_count": 25
  },
  {
   "metadata": {},
   "cell_type": "markdown",
   "source": [
    "**ABS**\n",
    "\n",
    "abs returns the absolute value of an argument"
   ],
   "id": "f9d6b85ba144ef09"
  },
  {
   "metadata": {
    "ExecuteTime": {
     "end_time": "2025-07-12T02:48:10.308450Z",
     "start_time": "2025-07-12T02:48:10.284473Z"
    }
   },
   "cell_type": "code",
   "source": [
    "print(abs(99))\n",
    "print(abs(-99))\n"
   ],
   "id": "6c46b64c45a758df",
   "outputs": [
    {
     "name": "stdout",
     "output_type": "stream",
     "text": [
      "99\n",
      "99\n"
     ]
    }
   ],
   "execution_count": 27
  },
  {
   "metadata": {},
   "cell_type": "markdown",
   "source": [
    "**Conversion**\n",
    "\n",
    "In addition to being the names of Python's two main numerical types, int and float can also be called as functions which convert their arguments to the corresponding type:"
   ],
   "id": "1040b240f93f445d"
  },
  {
   "metadata": {
    "ExecuteTime": {
     "end_time": "2025-07-12T02:49:40.078072Z",
     "start_time": "2025-07-12T02:49:40.069740Z"
    }
   },
   "cell_type": "code",
   "source": [
    "print(float(9))\n",
    "print(int(9.99))\n",
    "# They can even be called on strings!\n",
    "print(int('908') + 1)"
   ],
   "id": "2489dd10ffdf83cd",
   "outputs": [
    {
     "name": "stdout",
     "output_type": "stream",
     "text": [
      "9.0\n",
      "9\n",
      "909\n"
     ]
    }
   ],
   "execution_count": 29
  }
 ],
 "metadata": {
  "kernelspec": {
   "display_name": "Python 3",
   "language": "python",
   "name": "python3"
  },
  "language_info": {
   "codemirror_mode": {
    "name": "ipython",
    "version": 2
   },
   "file_extension": ".py",
   "mimetype": "text/x-python",
   "name": "python",
   "nbconvert_exporter": "python",
   "pygments_lexer": "ipython2",
   "version": "2.7.6"
  }
 },
 "nbformat": 4,
 "nbformat_minor": 5
}
