{
 "cells": [
  {
   "metadata": {},
   "cell_type": "markdown",
   "source": "# FUNCTIONS & GETTING HELP",
   "id": "79077193b9416232"
  },
  {
   "metadata": {},
   "cell_type": "markdown",
   "source": "## help()",
   "id": "8dd666e85a6ce303"
  },
  {
   "metadata": {},
   "cell_type": "markdown",
   "source": [
    "> We previously learned about the `abs` function, but what if we've forgotten what it does?\n",
    "> `help()` is here! If we remember how to use `help()`, we hold the key to understanding most other functions."
   ],
   "id": "d521d876d215373b"
  },
  {
   "metadata": {
    "ExecuteTime": {
     "end_time": "2025-07-20T01:38:28.337862Z",
     "start_time": "2025-07-20T01:38:28.330030Z"
    }
   },
   "cell_type": "code",
   "source": "help(round)",
   "id": "93895ec020be4f9b",
   "outputs": [
    {
     "name": "stdout",
     "output_type": "stream",
     "text": [
      "Help on built-in function round in module builtins:\n",
      "\n",
      "round(number, ndigits=None)\n",
      "    Round a number to a given precision in decimal digits.\n",
      "\n",
      "    The return value is an integer if ndigits is omitted or None.  Otherwise\n",
      "    the return value has the same type as the number.  ndigits may be negative.\n",
      "\n"
     ]
    }
   ],
   "execution_count": 3
  },
  {
   "metadata": {},
   "cell_type": "markdown",
   "source": [
    "> `help()` displays two things:\n",
    "> * 1. The header of that function `round(number, ndigits=None)`\n",
    ">   * `round()` takes an argument we can describe as `number`.\n",
    ">   * we can optionally give a separate argument which could be described as `ndigits`.\n",
    ">\n",
    "> * 2. A brief English description of what the function does."
   ],
   "id": "21a849535a8dff6e"
  },
  {
   "metadata": {
    "ExecuteTime": {
     "end_time": "2025-07-20T01:38:28.384832Z",
     "start_time": "2025-07-20T01:38:28.376675Z"
    }
   },
   "cell_type": "code",
   "source": [
    "# calling help() on print: a more complex, configurable function\n",
    "help(print)"
   ],
   "id": "e3c424d5d6dfae91",
   "outputs": [
    {
     "name": "stdout",
     "output_type": "stream",
     "text": [
      "Help on built-in function print in module builtins:\n",
      "\n",
      "print(*args, sep=' ', end='\\n', file=None, flush=False)\n",
      "    Prints the values to a stream, or to sys.stdout by default.\n",
      "\n",
      "    sep\n",
      "      string inserted between values, default a space.\n",
      "    end\n",
      "      string appended after the last value, default a newline.\n",
      "    file\n",
      "      a file-like object (stream); defaults to the current sys.stdout.\n",
      "    flush\n",
      "      whether to forcibly flush the stream.\n",
      "\n"
     ]
    }
   ],
   "execution_count": 4
  },
  {
   "metadata": {},
   "cell_type": "markdown",
   "source": [
    "> As we learned above, `print` can take an argument called `sep`: this describes what we put between all the other arguments when we print them.\n",
    "> * By default, `sep` is a space (`' '`), so `print(\"Hello\", \"world\")` outputs `Hello world`.\n",
    "> * When you set `sep='~'`, the separator between arguments becomes `~` instead of a space."
   ],
   "id": "81c036677eeb85e2"
  },
  {
   "metadata": {
    "ExecuteTime": {
     "end_time": "2025-07-20T01:38:28.416917Z",
     "start_time": "2025-07-20T01:38:28.411759Z"
    }
   },
   "cell_type": "code",
   "source": "print(\"Hello\", \"world\", \"Nyambia\", sep='~')",
   "id": "c1e09d1021b4d279",
   "outputs": [
    {
     "name": "stdout",
     "output_type": "stream",
     "text": [
      "Hello~world~Nyam bia\n"
     ]
    }
   ],
   "execution_count": 5
  },
  {
   "metadata": {
    "ExecuteTime": {
     "end_time": "2025-07-20T01:38:28.461515Z",
     "start_time": "2025-07-20T01:38:28.455713Z"
    }
   },
   "cell_type": "code",
   "source": [
    "# Practical Application\n",
    "# generates comma-separated (CSV) without using the csv module:\n",
    "\n",
    "print(\"Name\", \"Age\", \"Score\", sep=\",\") # CSV header\n",
    "print(\"Alice\", 30, 95.5, sep=\",\") # CSV row\n",
    "\n"
   ],
   "id": "d0652101735b48b7",
   "outputs": [
    {
     "name": "stdout",
     "output_type": "stream",
     "text": [
      "Name,Age,Score\n",
      "Alice,30,95.5\n"
     ]
    }
   ],
   "execution_count": 6
  },
  {
   "metadata": {},
   "cell_type": "markdown",
   "source": "## DEFINING FUNCTIONS",
   "id": "e9a337c550e8c0cc"
  },
  {
   "metadata": {},
   "cell_type": "markdown",
   "source": "> Builtin functions are great, but we can only get so far with them before we need to start defining our own functions. Below is a simple example.",
   "id": "67ef1d0b3d20fd06"
  },
  {
   "metadata": {
    "ExecuteTime": {
     "end_time": "2025-07-20T01:38:28.495214Z",
     "start_time": "2025-07-20T01:38:28.490708Z"
    }
   },
   "cell_type": "code",
   "source": [
    "# We create a function called 'least_difference', which takes three arguments: a, b, and c.\n",
    "# Functions start with a header introduced by the 'def' keyword.\n",
    "# The indented block of code following the ':' is run when the function is called.\n",
    "# The 'return' statement, it exits the function immediately, and passes the value on the right-hand side of the calling context.\n",
    "\n",
    "def least_difference(a, b, c):\n",
    "    diff1 = abs(a - b)\n",
    "    diff2 = abs(b - c)\n",
    "    diff3 = abs(a - c)\n",
    "    return min(diff1, diff2, diff3)"
   ],
   "id": "fa4de2f7b1539d97",
   "outputs": [],
   "execution_count": 7
  },
  {
   "metadata": {},
   "cell_type": "markdown",
   "source": "> Is it clear what `least_difference()` does from the source code? If we're not sure, we can always try it out on a few examples:",
   "id": "4d8d2393e0b60ff7"
  },
  {
   "metadata": {
    "ExecuteTime": {
     "end_time": "2025-07-20T01:38:28.521559Z",
     "start_time": "2025-07-20T01:38:28.515372Z"
    }
   },
   "cell_type": "code",
   "source": [
    "print(\n",
    "    least_difference(1, 10, 100),\n",
    "    least_difference(1, 10, 10),\n",
    "    least_difference(5, 6, 7),\n",
    ")"
   ],
   "id": "6949a41cceff823d",
   "outputs": [
    {
     "name": "stdout",
     "output_type": "stream",
     "text": [
      "9 0 1\n"
     ]
    }
   ],
   "execution_count": 8
  },
  {
   "metadata": {},
   "cell_type": "markdown",
   "source": [
    "> Python isn't smart enough to read our code and turn it into a nice English description. However, when we write a function, we can provide a description in what's called the docstring.\n",
    "\n"
   ],
   "id": "6ce70c4f46bc0e0d"
  },
  {
   "metadata": {
    "ExecuteTime": {
     "end_time": "2025-07-20T01:38:28.550892Z",
     "start_time": "2025-07-20T01:38:28.545667Z"
    }
   },
   "cell_type": "code",
   "source": [
    "def least_difference(a, b, c):\n",
    "    \"\"\"\n",
    "    Return the smallest difference between any two numbers among a, b, and c.\n",
    "    >>> least_difference(1, 5, -5)\n",
    "    4\n",
    "    \"\"\"\n",
    "    diff1 = abs(a - b)\n",
    "    diff2 = abs(b - c)\n",
    "    diff3 = abs(a - c)\n",
    "    return min(diff1, diff2, diff3)"
   ],
   "id": "659a37f331e382d7",
   "outputs": [],
   "execution_count": 9
  },
  {
   "metadata": {},
   "cell_type": "markdown",
   "source": "## Docstrings",
   "id": "8a367ccac501f249"
  },
  {
   "metadata": {},
   "cell_type": "markdown",
   "source": "> The docstring is a triple-quoted string (which may span multiple lines) that comes immediately after the header of a function.",
   "id": "9726779caf1f9942"
  },
  {
   "metadata": {
    "ExecuteTime": {
     "end_time": "2025-07-20T01:40:23.374062Z",
     "start_time": "2025-07-20T01:40:23.367384Z"
    }
   },
   "cell_type": "code",
   "source": [
    "def least_difference(a, b, c):\n",
    "    \"\"\"Return the smallest difference between any two numbers\n",
    "    among a, b and c.\n",
    "\n",
    "    >>> least_difference(1, 5, -5)\n",
    "    4\n",
    "    \"\"\"\n",
    "    diff1 = abs(a - b)\n",
    "    diff2 = abs(b - c)\n",
    "    diff3 = abs(a - c)\n",
    "    return min(diff1, diff2, diff3)"
   ],
   "id": "b2176aa97f37e305",
   "outputs": [],
   "execution_count": 12
  },
  {
   "metadata": {
    "ExecuteTime": {
     "end_time": "2025-07-20T01:38:28.593805Z",
     "start_time": "2025-07-20T01:38:28.589005Z"
    }
   },
   "cell_type": "code",
   "source": [
    "# When we call `help()` on a function, it shows the docstring.\n",
    "help(least_difference)"
   ],
   "id": "12ec556f646858bf",
   "outputs": [
    {
     "name": "stdout",
     "output_type": "stream",
     "text": [
      "Help on function least_difference in module __main__:\n",
      "\n",
      "least_difference(a, b, c)\n",
      "    Return the smallest difference between any two numbers\n",
      "    among a, b and c.\n",
      "\n",
      "    >>> least_difference(1, 5, -5)\n",
      "    4\n",
      "\n"
     ]
    }
   ],
   "execution_count": 11
  },
  {
   "metadata": {
    "ExecuteTime": {
     "end_time": "2025-07-20T01:40:42.758794Z",
     "start_time": "2025-07-20T01:40:42.753551Z"
    }
   },
   "cell_type": "code",
   "source": [
    "# What would happen if we didn't include the return keyword in our function?\n",
    "def least_difference(a, b, c):\n",
    "    \"\"\"Return the smallest difference between any two numbers\n",
    "    among a, b and c.\n",
    "    \"\"\"\n",
    "    diff1 = abs(a - b)\n",
    "    diff2 = abs(b - c)\n",
    "    diff3 = abs(a - c)\n",
    "    min(diff1, diff2, diff3)\n",
    "\n",
    "print(\n",
    "    least_difference(1, 10, 100),\n",
    "    least_difference(1, 10, 10),\n",
    "    least_difference(5, 6, 7),\n",
    ")"
   ],
   "id": "6b7a91a5b7424756",
   "outputs": [
    {
     "name": "stdout",
     "output_type": "stream",
     "text": [
      "None None None\n"
     ]
    }
   ],
   "execution_count": 13
  },
  {
   "metadata": {},
   "cell_type": "markdown",
   "source": [
    "> Without a return statement, least_difference is completely pointless, but a function with side effects may do something useful without returning anything.\n",
    ">\n",
    "> We've already seen two examples of this: print() and help() don't return anything. We only call them for their side effects (putting some text on the screen).\n",
    ">\n",
    "> Other examples of useful side effects include writing to a file, or modifying an input."
   ],
   "id": "8af7987cdd6a2d2c"
  },
  {
   "metadata": {
    "ExecuteTime": {
     "end_time": "2025-07-20T01:42:01.397471Z",
     "start_time": "2025-07-20T01:42:01.392380Z"
    }
   },
   "cell_type": "code",
   "source": [
    "mystery = print()\n",
    "print(mystery)"
   ],
   "id": "556127f2272fb76c",
   "outputs": [
    {
     "name": "stdout",
     "output_type": "stream",
     "text": [
      "\n",
      "None\n"
     ]
    }
   ],
   "execution_count": 14
  },
  {
   "metadata": {},
   "cell_type": "markdown",
   "source": "# Default Arguments",
   "id": "fbd685e55f009d8a"
  },
  {
   "metadata": {
    "ExecuteTime": {
     "end_time": "2025-07-20T01:44:16.069485Z",
     "start_time": "2025-07-20T01:44:16.059301Z"
    }
   },
   "cell_type": "code",
   "source": "help(print)",
   "id": "32942220423930d",
   "outputs": [
    {
     "name": "stdout",
     "output_type": "stream",
     "text": [
      "Help on built-in function print in module builtins:\n",
      "\n",
      "print(*args, sep=' ', end='\\n', file=None, flush=False)\n",
      "    Prints the values to a stream, or to sys.stdout by default.\n",
      "\n",
      "    sep\n",
      "      string inserted between values, default a space.\n",
      "    end\n",
      "      string appended after the last value, default a newline.\n",
      "    file\n",
      "      a file-like object (stream); defaults to the current sys.stdout.\n",
      "    flush\n",
      "      whether to forcibly flush the stream.\n",
      "\n"
     ]
    }
   ],
   "execution_count": 15
  },
  {
   "metadata": {},
   "cell_type": "markdown",
   "source": [
    "> As shown above, the print function has several optional arguments.\n",
    ">\n",
    "> For example, we can specify a value for sep to put some special string in between our printed arguments."
   ],
   "id": "ed9b54ed0cd756d0"
  },
  {
   "metadata": {
    "ExecuteTime": {
     "end_time": "2025-07-20T01:47:35.322882Z",
     "start_time": "2025-07-20T01:47:35.317073Z"
    }
   },
   "cell_type": "code",
   "source": [
    "print(1, 2, 3, sep=' < ')\n",
    "print(1, 2, 3, sep=' e and a ')"
   ],
   "id": "15fd66a2615912e3",
   "outputs": [
    {
     "name": "stdout",
     "output_type": "stream",
     "text": [
      "1 < 2 < 3\n",
      "1 e and a 2 e and a 3\n"
     ]
    }
   ],
   "execution_count": 18
  },
  {
   "metadata": {
    "ExecuteTime": {
     "end_time": "2025-07-20T01:49:10.375903Z",
     "start_time": "2025-07-20T01:49:10.365835Z"
    }
   },
   "cell_type": "code",
   "source": [
    "# If we don't specify a value, sep has a default value of ' ' (a single space)\n",
    "print(1, 2, 3)"
   ],
   "id": "8e76dc90c25b9abc",
   "outputs": [
    {
     "name": "stdout",
     "output_type": "stream",
     "text": [
      "1 2 3\n"
     ]
    }
   ],
   "execution_count": 19
  },
  {
   "metadata": {},
   "cell_type": "markdown",
   "source": "> Adding optional arguments with default values to the functions we define turns out to be pretty easy:",
   "id": "c64063d0eed96ef1"
  },
  {
   "metadata": {
    "ExecuteTime": {
     "end_time": "2025-07-20T01:51:44.874244Z",
     "start_time": "2025-07-20T01:51:44.869097Z"
    }
   },
   "cell_type": "code",
   "outputs": [
    {
     "name": "stdout",
     "output_type": "stream",
     "text": [
      "Hello, Colin\n",
      "Hello, Kaggle\n",
      "Hello, Nyambi\n"
     ]
    }
   ],
   "execution_count": 23,
   "source": [
    "def greet(who=\"Colin\"): # Colin is the default value for who\n",
    "    print(\"Hello,\", who)\n",
    "\n",
    "greet()\n",
    "greet(who=\"Kaggle\")\n",
    "# (In this case, we don't need to specify the name of the argument, because it's unambiguous.)\n",
    "greet(\"Nyambi\")"
   ],
   "id": "c8f9c8933b02560a"
  },
  {
   "metadata": {},
   "cell_type": "markdown",
   "source": ">  Default parameters are useful when you want a function to work with common values most of the time, but still allow customization when needed. They're not replacing parameter definition - they're enhancing it by making some arguments optional.\n",
   "id": "ed818b752e8fd829"
  },
  {
   "metadata": {},
   "cell_type": "markdown",
   "source": "## Functions Applied to Functions",
   "id": "7f38331844edbdf4"
  },
  {
   "metadata": {},
   "cell_type": "markdown",
   "source": "> You can supply functions as arguments to other functions.",
   "id": "7601ca801b080349"
  },
  {
   "metadata": {
    "ExecuteTime": {
     "end_time": "2025-07-24T01:44:00.388741Z",
     "start_time": "2025-07-24T01:44:00.377355Z"
    }
   },
   "cell_type": "code",
   "source": [
    "def mult_by_five(x):\n",
    "    return 5 * x\n",
    "\n",
    "def call(fn, arg):\n",
    "    \"\"\"Call fn on arg\"\"\"\n",
    "    return fn(arg)\n",
    "\n",
    "def squared_call(fn, arg):\n",
    "    \"\"\"Call fn on the result of calling fn on arg\"\"\"\n",
    "    return fn(fn(arg))\n",
    "\n",
    "print(\n",
    "    call(mult_by_five, 1),\n",
    "    squared_call(mult_by_five, 1),\n",
    "    sep='\\n', # '\\n' is the newline character - it starts a new line\n",
    ")"
   ],
   "id": "1542e8e191c24dd4",
   "outputs": [
    {
     "name": "stdout",
     "output_type": "stream",
     "text": [
      "5\n",
      "25\n"
     ]
    }
   ],
   "execution_count": 1
  },
  {
   "metadata": {},
   "cell_type": "markdown",
   "source": [
    "> functions that operate on other functions are called \"**high-order functions**.\"\n",
    "> * There are higher-order functions built into Python that you might find useful to call\n",
    "> * Below is an example using the 'max' function"
   ],
   "id": "8152172d4b1de0ae"
  },
  {
   "metadata": {
    "ExecuteTime": {
     "end_time": "2025-07-24T01:51:50.066093Z",
     "start_time": "2025-07-24T01:51:50.060257Z"
    }
   },
   "cell_type": "code",
   "source": [
    "# By default, 'max' returns the largest of its arguments.\n",
    "# But if we pass in a function using the optional 'key' argument,\n",
    "# it returns the argument 'x' that maximizes key(x) (argmax)\n",
    "\n",
    "def mod_5(x):\n",
    "    \"\"\"Return the remainder of x after dividing by 5\"\"\"\n",
    "    return x % 5\n",
    "\n",
    "print(\n",
    "    'Which number is biggest?',\n",
    "    max(100, 51, 14),\n",
    "    'Which number is the biggest modulo 5?',\n",
    "    max(100, 51, 14, key=mod_5),\n",
    "    sep='\\n',\n",
    ")"
   ],
   "id": "f1b81c397b929cb6",
   "outputs": [
    {
     "name": "stdout",
     "output_type": "stream",
     "text": [
      "Which number is biggest?\n",
      "100\n",
      "Which number is the biggest modulo 5?\n",
      "14\n"
     ]
    }
   ],
   "execution_count": 2
  },
  {
   "metadata": {},
   "cell_type": "markdown",
   "source": "# EXCERCISES",
   "id": "cbd9644617fde9e2"
  },
  {
   "metadata": {},
   "cell_type": "markdown",
   "source": "## 1",
   "id": "ce9dfb9e67e75f53"
  },
  {
   "metadata": {
    "ExecuteTime": {
     "end_time": "2025-07-24T02:05:17.437096Z",
     "start_time": "2025-07-24T02:05:17.411161Z"
    }
   },
   "cell_type": "code",
   "outputs": [
    {
     "data": {
      "text/plain": [
       "3.14"
      ]
     },
     "execution_count": 3,
     "metadata": {},
     "output_type": "execute_result"
    }
   ],
   "execution_count": 3,
   "source": [
    "def round_two_places(num):\n",
    "    \"\"\"\n",
    "    Return the given number rounded to two decimal places\n",
    "    >>> round_two_places(3.14159)\n",
    "    3.14\n",
    "    \"\"\"\n",
    "    rounded = round(num, 2)\n",
    "    return rounded\n",
    "round_two_places(3.1415)"
   ],
   "id": "c71685e3c6a10cdb"
  },
  {
   "metadata": {
    "ExecuteTime": {
     "end_time": "2025-07-24T02:07:26.646536Z",
     "start_time": "2025-07-24T02:07:26.622104Z"
    }
   },
   "cell_type": "code",
   "outputs": [
    {
     "name": "stdout",
     "output_type": "stream",
     "text": [
      "Help on built-in function round in module builtins:\n",
      "\n",
      "round(number, ndigits=None)\n",
      "    Round a number to a given precision in decimal digits.\n",
      "\n",
      "    The return value is an integer if ndigits is omitted or None.  Otherwise\n",
      "    the return value has the same type as the number.  ndigits may be negative.\n",
      "\n"
     ]
    }
   ],
   "execution_count": 6,
   "source": "help(round)",
   "id": "a19916d7d84325cd"
  },
  {
   "metadata": {
    "ExecuteTime": {
     "end_time": "2025-07-24T02:06:55.323512Z",
     "start_time": "2025-07-24T02:06:55.315563Z"
    }
   },
   "cell_type": "code",
   "outputs": [
    {
     "data": {
      "text/plain": [
       "3.14"
      ]
     },
     "execution_count": 5,
     "metadata": {},
     "output_type": "execute_result"
    }
   ],
   "execution_count": 5,
   "source": [
    "# Kaggle's solution was simpler\n",
    "def round_two_places(num):\n",
    "    return round(num, 2)\n",
    "round_two_places(3.1415)"
   ],
   "id": "96b0070b6938fd30"
  },
  {
   "metadata": {},
   "cell_type": "markdown",
   "source": "## 2",
   "id": "1019f8d066d2ec0b"
  },
  {
   "metadata": {
    "ExecuteTime": {
     "end_time": "2025-07-24T02:14:18.847679Z",
     "start_time": "2025-07-24T02:14:18.840776Z"
    }
   },
   "cell_type": "code",
   "source": [
    "# what if we pass a negative number as our second argument\n",
    "def round_two_places(num):\n",
    "    return round(num, -3)\n",
    "round_two_places(338424)"
   ],
   "id": "cb04769c71a3c240",
   "outputs": [
    {
     "data": {
      "text/plain": [
       "338000"
      ]
     },
     "execution_count": 11,
     "metadata": {},
     "output_type": "execute_result"
    }
   ],
   "execution_count": 11
  },
  {
   "metadata": {},
   "cell_type": "markdown",
   "source": [
    "> ndigits=-1 rounds to the nearest 10, ndigits=-2 rounds to the nearest 100 and so on. Where might this be useful? Suppose we're dealing with large numbers:\n",
    "\n",
    ">The area of Finland is 338,424 km²\n",
    " The area of Greenland is 2,166,086 km²\n",
    "\n",
    "> We probably don't care whether it's really 338,424, or 338,425, or 338,177. All those digits of accuracy are just distracting. We can chop them off by calling round() with ndigits=-3:\n",
    "\n",
    "> The area of Finland is 338,000 km²\n",
    "The area of Greenland is 2,166,000 km²"
   ],
   "id": "89835acb463bfa27"
  },
  {
   "metadata": {},
   "cell_type": "markdown",
   "source": "## 3\n",
   "id": "e12d2f8b59a70cb7"
  },
  {
   "metadata": {},
   "cell_type": "markdown",
   "source": [
    "> In the previous exercise, the candy-sharing friends Alice, Bob and Carol tried to split candies evenly. For the sake of their friendship, any candies left over would be smashed. For example, if they collectively bring home 91 candies, they'll take 30 each and smash 1.\n",
    "\n",
    "> Below is a simple function that will calculate the number of candies to smash for any number of total candies.\n",
    "\n",
    "> Modify it so that it optionally takes a second argument representing the number of friends the candies are being split between. If no second argument is provided, it should assume 3 friends, as before.\n",
    "\n",
    "> Update the docstring to reflect this new behaviour."
   ],
   "id": "2563b39a9c6c16bb"
  },
  {
   "metadata": {
    "ExecuteTime": {
     "end_time": "2025-07-24T02:23:17.638923Z",
     "start_time": "2025-07-24T02:23:17.631503Z"
    }
   },
   "cell_type": "code",
   "source": [
    "def to_smash(total_candies, n_friends=3):\n",
    "    \"\"\"Return the number of leftover candies that must be smashed given the number of candies evenly between a specified number of friends.\n",
    "    \"\"\"\n",
    "    return total_candies % n_friends\n",
    "print(to_smash(50)) # will resort to default for second arg\n",
    "print(to_smash(50,5)) # we specify a second argument"
   ],
   "id": "8a4835592f2cf1c8",
   "outputs": [
    {
     "name": "stdout",
     "output_type": "stream",
     "text": [
      "2\n",
      "0\n"
     ]
    }
   ],
   "execution_count": 17
  }
 ],
 "metadata": {
  "kernelspec": {
   "display_name": "Python 3",
   "language": "python",
   "name": "python3"
  },
  "language_info": {
   "codemirror_mode": {
    "name": "ipython",
    "version": 2
   },
   "file_extension": ".py",
   "mimetype": "text/x-python",
   "name": "python",
   "nbconvert_exporter": "python",
   "pygments_lexer": "ipython2",
   "version": "2.7.6"
  }
 },
 "nbformat": 4,
 "nbformat_minor": 5
}
