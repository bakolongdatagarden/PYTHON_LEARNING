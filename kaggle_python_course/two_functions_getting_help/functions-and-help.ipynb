{
 "cells": [
  {
   "metadata": {},
   "cell_type": "markdown",
   "source": "# GETTING HELP",
   "id": "8dd666e85a6ce303"
  },
  {
   "metadata": {},
   "cell_type": "markdown",
   "source": [
    "> We previously learned about the `abs` function, but what if we've forgotten what it does?\n",
    "> `help()` is here! If we remember how to use `help()`, we hold the key to understanding most other functions."
   ],
   "id": "d521d876d215373b"
  },
  {
   "metadata": {
    "ExecuteTime": {
     "end_time": "2025-07-17T07:02:40.974158Z",
     "start_time": "2025-07-17T07:02:40.954197Z"
    }
   },
   "cell_type": "code",
   "source": "help(round)",
   "id": "93895ec020be4f9b",
   "outputs": [
    {
     "name": "stdout",
     "output_type": "stream",
     "text": [
      "Help on built-in function round in module builtins:\n",
      "\n",
      "round(number, ndigits=None)\n",
      "    Round a number to a given precision in decimal digits.\n",
      "\n",
      "    The return value is an integer if ndigits is omitted or None.  Otherwise\n",
      "    the return value has the same type as the number.  ndigits may be negative.\n",
      "\n"
     ]
    }
   ],
   "execution_count": 2
  },
  {
   "metadata": {},
   "cell_type": "markdown",
   "source": [
    "> `help()` displays two things:\n",
    "> * 1. The header of that function `round(number, ndigits=None)`\n",
    ">   * `round()` takes an argument we can describe as `number`.\n",
    ">   * we can optionally give a separate argument which could be described as `ndigits`.\n",
    ">\n",
    "> * 2. A brief English description of what the function does."
   ],
   "id": "21a849535a8dff6e"
  },
  {
   "metadata": {
    "ExecuteTime": {
     "end_time": "2025-07-17T07:02:41.029073Z",
     "start_time": "2025-07-17T07:02:41.024212Z"
    }
   },
   "cell_type": "code",
   "source": [
    "# calling help() on print: a more complex, configurable function\n",
    "help(print)"
   ],
   "id": "e3c424d5d6dfae91",
   "outputs": [
    {
     "name": "stdout",
     "output_type": "stream",
     "text": [
      "Help on built-in function print in module builtins:\n",
      "\n",
      "print(*args, sep=' ', end='\\n', file=None, flush=False)\n",
      "    Prints the values to a stream, or to sys.stdout by default.\n",
      "\n",
      "    sep\n",
      "      string inserted between values, default a space.\n",
      "    end\n",
      "      string appended after the last value, default a newline.\n",
      "    file\n",
      "      a file-like object (stream); defaults to the current sys.stdout.\n",
      "    flush\n",
      "      whether to forcibly flush the stream.\n",
      "\n"
     ]
    }
   ],
   "execution_count": 3
  },
  {
   "metadata": {},
   "cell_type": "markdown",
   "source": [
    "> As we learned above, `print` can take an argument called `sep`: this describes what we put between all the other arguments when we print them.\n",
    "> * By default, `sep` is a space (`' '`), so `print(\"Hello\", \"world\")` outputs `Hello world`.\n",
    "> * When you set `sep='~'`, the separator between arguments becomes `~` instead of a space."
   ],
   "id": "81c036677eeb85e2"
  },
  {
   "metadata": {
    "ExecuteTime": {
     "end_time": "2025-07-17T07:02:41.101690Z",
     "start_time": "2025-07-17T07:02:41.093691Z"
    }
   },
   "cell_type": "code",
   "source": "print(\"Hello\", \"world\", \"Nyambia\", sep='~')",
   "id": "c1e09d1021b4d279",
   "outputs": [
    {
     "name": "stdout",
     "output_type": "stream",
     "text": [
      "Hello~world~Nyambia\n"
     ]
    }
   ],
   "execution_count": 4
  },
  {
   "metadata": {
    "ExecuteTime": {
     "end_time": "2025-07-17T07:23:32.545661Z",
     "start_time": "2025-07-17T07:23:32.534505Z"
    }
   },
   "cell_type": "code",
   "source": [
    "# Practical Application\n",
    "# generates comma-separated (CSV) without using the csv module:\n",
    "\n",
    "print(\"Name\", \"Age\", \"Score\", sep=\",\") # CSV header\n",
    "print(\"Alice\", 30, 95.5, sep=\",\") # CSV row\n",
    "\n"
   ],
   "id": "d0652101735b48b7",
   "outputs": [
    {
     "name": "stdout",
     "output_type": "stream",
     "text": [
      "Name,Age,Score\n",
      "Alice,30,95.5\n"
     ]
    }
   ],
   "execution_count": 8
  },
  {
   "metadata": {},
   "cell_type": "markdown",
   "source": "# DEFINING FUNCTIONS",
   "id": "e9a337c550e8c0cc"
  },
  {
   "metadata": {},
   "cell_type": "markdown",
   "source": "> Builtin functions are great, but we can only get so far with them before we need to start defining our own functions. Below is a simple example.",
   "id": "67ef1d0b3d20fd06"
  },
  {
   "metadata": {
    "ExecuteTime": {
     "end_time": "2025-07-17T07:02:41.239733Z",
     "start_time": "2025-07-17T07:02:41.234773Z"
    }
   },
   "cell_type": "code",
   "source": [
    "# We create a function called 'least_difference', which takes three arguments: a, b, and c.\n",
    "# Functions start with a header introduced by the 'def' keyword.\n",
    "# The indented block of code following the ':' is run when the function is called.\n",
    "# The 'return' statement, it exits the function immediately, and passes the value on the right-hand side of the calling context.\n",
    "\n",
    "def least_difference(a, b, c):\n",
    "    diff1 = abs(a - b)\n",
    "    diff2 = abs(b - c)\n",
    "    diff3 = abs(a - c)\n",
    "    return min(diff1, diff2, diff3)"
   ],
   "id": "fa4de2f7b1539d97",
   "outputs": [],
   "execution_count": 6
  },
  {
   "metadata": {},
   "cell_type": "markdown",
   "source": "> Is it clear what `least_difference()` does from the source code? If we're not sure, we can always try it out on a few examples:",
   "id": "4d8d2393e0b60ff7"
  },
  {
   "metadata": {
    "ExecuteTime": {
     "end_time": "2025-07-17T07:10:33.602597Z",
     "start_time": "2025-07-17T07:10:33.590653Z"
    }
   },
   "cell_type": "code",
   "source": [
    "print(\n",
    "    least_difference(1, 10, 100),\n",
    "    least_difference(1, 10, 10),\n",
    "    least_difference(5, 6, 7),\n",
    ")"
   ],
   "id": "6949a41cceff823d",
   "outputs": [
    {
     "name": "stdout",
     "output_type": "stream",
     "text": [
      "9 0 1\n"
     ]
    }
   ],
   "execution_count": 7
  },
  {
   "metadata": {},
   "cell_type": "markdown",
   "source": [
    "> Python isn't smart enough to read our code and turn it into a nice English description. However, when we write a function, we can provide a description in what's called the docstring.\n",
    "\n"
   ],
   "id": "6ce70c4f46bc0e0d"
  },
  {
   "metadata": {
    "ExecuteTime": {
     "end_time": "2025-07-17T07:29:42.983195Z",
     "start_time": "2025-07-17T07:29:42.975014Z"
    }
   },
   "cell_type": "code",
   "source": [
    "def least_difference(a, b, c):\n",
    "    \"\"\"\n",
    "    Return the smallest difference between any two numbers among a, b, and c.\n",
    "    >>> least_difference(1, 5, -5)\n",
    "    4\n",
    "    \"\"\"\n",
    "    diff1 = abs(a - b)\n",
    "    diff2 = abs(b - c)\n",
    "    diff3 = abs(a - c)\n",
    "    return min(diff1, diff2, diff3)"
   ],
   "id": "659a37f331e382d7",
   "outputs": [],
   "execution_count": 12
  },
  {
   "metadata": {},
   "cell_type": "markdown",
   "source": "> The docstring is a triple-quoted string (which may span multiple lines) that comes immediately after the header of a function. When we call `help()` on a function, it shows the docstring.",
   "id": "9726779caf1f9942"
  },
  {
   "metadata": {
    "ExecuteTime": {
     "end_time": "2025-07-17T07:29:48.944456Z",
     "start_time": "2025-07-17T07:29:48.930479Z"
    }
   },
   "cell_type": "code",
   "source": "help(least_difference)",
   "id": "12ec556f646858bf",
   "outputs": [
    {
     "name": "stdout",
     "output_type": "stream",
     "text": [
      "Help on function least_difference in module __main__:\n",
      "\n",
      "least_difference(a, b, c)\n",
      "    Return the smallest difference between any two numbers among a, b, and c.\n",
      "    >>> least_difference(1, 5, -5)\n",
      "    4\n",
      "\n"
     ]
    }
   ],
   "execution_count": 13
  }
 ],
 "metadata": {
  "kernelspec": {
   "display_name": "Python 3",
   "language": "python",
   "name": "python3"
  },
  "language_info": {
   "codemirror_mode": {
    "name": "ipython",
    "version": 2
   },
   "file_extension": ".py",
   "mimetype": "text/x-python",
   "name": "python",
   "nbconvert_exporter": "python",
   "pygments_lexer": "ipython2",
   "version": "2.7.6"
  }
 },
 "nbformat": 4,
 "nbformat_minor": 5
}
